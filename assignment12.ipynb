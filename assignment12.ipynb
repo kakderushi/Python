{
 "cells": [
  {
   "cell_type": "raw",
   "id": "c8359b12",
   "metadata": {},
   "source": [
    "1.) What is the primary goal of Object-Oriented Programming (OOP)?\n",
    "     \n",
    "     The primary goal of object-oriented programming (OOP) is a model the real world in a software application by \n",
    "     using objects and their interactions, OOP is paradigm that organizes data and behavior into self contained\n",
    "     units called objects which are instances of the classes.\n",
    "     \n",
    "     Key objectives of OPP are:\n",
    "     Encapsulation:\n",
    "     Encapsulation is the bundling of data and methods that operate on the data within single unit , the object \n",
    "     It allows the object to control it internal state and provides a clear interface for interacting with it,\n",
    "     hiding the implementation of outside world . This helps in reducing complexity and making code more manegeable\n",
    "     \n",
    "     Abstraction:\n",
    "     Abstraction is the proceses of simplifying complex reality by modeling classes and objects that represent\n",
    "     entities and their characteristics. It allows progrmmaers to focus on relvent attributes and behaviours\n",
    "     while ingonring unnecessary details. This makes it easier to design understand and modify the code.\n",
    "     \n",
    "     Inheritance:\n",
    "     Inheritance is a mechanism that allows a class (The subclass or derived class) to inherit properties \n",
    "     and behaviors form another class .This promotes code reusability .\n",
    "     \n",
    "     Polymorphism:\n",
    "     Polymorphism enables objects of diffrent classes to be treated as objects of common superclass\n",
    "     this allows methods to be defined in the superclass and overriden(use) in the subclass, providing a consistent\n",
    "     interface to diffrent object's polymorphism simplifies code and makes it more adaptable to varing data and behavior.\n",
    "     \n",
    "    "
   ]
  },
  {
   "cell_type": "raw",
   "id": "b3e88afd",
   "metadata": {},
   "source": [
    "2. What is an object in Python?\n",
    "\n",
    "     In Python , an objcet is fundamental concept that represents a specific instances of data structure or user defined class.\n",
    "     Everything on python is object, including simple data types like string , intergers and even more complex data types\n",
    "     are aslo objects.\n",
    "     \n",
    "     An object in python have two main characteristics:\n",
    "     \n",
    "     Identity:\n",
    "     Each object has a unique indentity which like unique address or identifier for that specific objects,\n",
    "     we think of it is memory location where of it as stored . The id() function in python can be used to get\n",
    "     the indentity of the object.\n",
    "     \n",
    "     state and Behavior:\n",
    "     object have both state and behavior. In python state represent attribute's means variable which hold the data.\n",
    "     and behavior represent method's  which is a function we can also call it.\n",
    "     \n",
    "     when you create an object, In python allocates memory to store its attributes and methods\n",
    "     and each object has its own set of these attributes methods. This allows you to have multiple\n",
    "     instances of the same class. each with its own unique state and the ability to execute methods\n",
    "     independetly.\n",
    "     \n",
    "     \n",
    "     "
   ]
  },
  {
   "cell_type": "code",
   "execution_count": 1,
   "id": "9736f410",
   "metadata": {},
   "outputs": [],
   "source": [
    "class Person:\n",
    "    def __init__(self,name,age):\n",
    "        self.name=name\n",
    "        self.age=age\n",
    "    def say_hello(self):\n",
    "        print(f\"hello my name is {self.name} and my age is {self.age}\")\n",
    "    "
   ]
  },
  {
   "cell_type": "code",
   "execution_count": 2,
   "id": "53fbe881",
   "metadata": {},
   "outputs": [],
   "source": [
    "#creating objects of this class\n",
    "person1=Person(\"rushieksh\",21)"
   ]
  },
  {
   "cell_type": "code",
   "execution_count": 3,
   "id": "2e5f721f",
   "metadata": {},
   "outputs": [
    {
     "name": "stdout",
     "output_type": "stream",
     "text": [
      "hello my name is rushieksh and my age is 21\n"
     ]
    }
   ],
   "source": [
    "#calling the methods on the object\n",
    "person1.say_hello()"
   ]
  },
  {
   "cell_type": "raw",
   "id": "2f141f8c",
   "metadata": {},
   "source": [
    "In the above example , person1 is object of the Person class \n",
    "here we create an object of the person class. and it has own unique state(name and age) \n",
    "and methods (say_hello)"
   ]
  },
  {
   "cell_type": "raw",
   "id": "882e8f33",
   "metadata": {},
   "source": [
    "3. What is a class in Python?\n",
    "   In python, a class is blueprint or a template that defines the structure and behavior of object's it is a fundamental \n",
    "   concept of object oriented programming (OOP) which allows you to create object's with specific data member and methods\n",
    "   (functions) that operate those attributes . classes serve as way to organize and encapsulate related data and\n",
    "   functionality into a single unit.\n",
    "    "
   ]
  },
  {
   "cell_type": "code",
   "execution_count": 4,
   "id": "816f5d66",
   "metadata": {},
   "outputs": [
    {
     "ename": "SyntaxError",
     "evalue": "invalid syntax (3366464540.py, line 12)",
     "output_type": "error",
     "traceback": [
      "\u001b[1;36m  Cell \u001b[1;32mIn[4], line 12\u001b[1;36m\u001b[0m\n\u001b[1;33m    def method1(self,...):\u001b[0m\n\u001b[1;37m                     ^\u001b[0m\n\u001b[1;31mSyntaxError\u001b[0m\u001b[1;31m:\u001b[0m invalid syntax\n"
     ]
    }
   ],
   "source": [
    "class ClassName:\n",
    "    #class attribute (shared by all instances of the class)\n",
    "    class_attribute=value\n",
    "    #constructor (aslo called intializer)\n",
    "    def __init__(self,arg1,arg2):\n",
    "        #instance attributes (specific to each instance of the class)\n",
    "        self.instance_attr1=arg1\n",
    "        self.insance_attr2=arg2\n",
    "        \n",
    "        \n",
    "        #instance methods\n",
    "        def method1(self,...):\n",
    "        #method code\n",
    "        def method2(self,..):\n",
    "            \n",
    "    "
   ]
  },
  {
   "cell_type": "raw",
   "id": "59e64428",
   "metadata": {},
   "source": [
    "Break down all components:\n",
    "\n",
    "class: This keyword is used to define the class\n",
    "\n",
    "className: the class name should start with letter of __ underscore with our convinence\n",
    "\n",
    "class attribute:These are variables defined directly within the class\n",
    "\n",
    "__init__: This is the constructor method that gets called when you create an instance of the class.\n",
    "\n",
    "self: self is keyword which is refers to the current instance of the object.\n",
    "\n",
    "instances attributes: These are specific to each instance of the class and hold differnt values for each object.\n",
    "\n",
    "instances methods:These functions defined within the class and can be operate instance attributes of the class.\n"
   ]
  },
  {
   "cell_type": "code",
   "execution_count": null,
   "id": "06243284",
   "metadata": {},
   "outputs": [],
   "source": [
    "#creating an instance of the class\n",
    "obj=ClassName(arg1 value,arg2 value)\n",
    "#calling the instance methods\n",
    "obj.method1\n",
    "obj2.methid2\n",
    "#accessing the instance attributes\n",
    "print(obj.instance_attribute1)"
   ]
  },
  {
   "cell_type": "raw",
   "id": "c56f5fbe",
   "metadata": {},
   "source": [
    "class provide a powerful way to model real world entitis and create modular reusable code \n",
    "in python."
   ]
  },
  {
   "cell_type": "raw",
   "id": "b1e1b853",
   "metadata": {},
   "source": [
    "4. What are attributes and methods in a class?\n",
    "    \n",
    "    In a class , attribute are vairbale that store data associated with instances of the class\n",
    "    and methods are functions that define the behavior of the class and can operate on those\n",
    "    attributes. Attributes and methods are defined within the class and are accessed using the dot\n",
    "    notation with instances of the class.\n",
    "    \n",
    "    Attribute:\n",
    "    Attribute can be classified into two types:\n",
    "    1) Class Attribute:\n",
    "        class attribute are defined directly within the class and are shared by all instances of the class.\n",
    "        they are accessed using the class name and are the same for all objects of that class.\n",
    "        class attribute are typically used for values that are constant across all instances.\n",
    "        "
   ]
  },
  {
   "cell_type": "code",
   "execution_count": 5,
   "id": "2f15e283",
   "metadata": {},
   "outputs": [],
   "source": [
    "class MyClass:\n",
    "    class_attribute=\"this is class attribute\"\n",
    "   "
   ]
  },
  {
   "cell_type": "code",
   "execution_count": 6,
   "id": "a9212596",
   "metadata": {},
   "outputs": [
    {
     "data": {
      "text/plain": [
       "'this is class attribute'"
      ]
     },
     "execution_count": 6,
     "metadata": {},
     "output_type": "execute_result"
    }
   ],
   "source": [
    " #Accesssing class attribute\n",
    "MyClass.class_attribute"
   ]
  },
  {
   "cell_type": "raw",
   "id": "72776c29",
   "metadata": {},
   "source": [
    "    2) instance attributes:\n",
    "       instance attributess are specific to each instance (object) of the class. \n",
    "       They are intialized and assigned values in the constructor\n",
    "       (__init__) method using the self keyword\n",
    "        instance attributes represnt the unique data for each object ."
   ]
  },
  {
   "cell_type": "code",
   "execution_count": 7,
   "id": "0775026f",
   "metadata": {},
   "outputs": [
    {
     "data": {
      "text/plain": [
       "'rushi'"
      ]
     },
     "execution_count": 7,
     "metadata": {},
     "output_type": "execute_result"
    }
   ],
   "source": [
    "class Person:\n",
    "    def __init__(self,name,age):\n",
    "        self.name=name\n",
    "        self.age=age\n",
    "\n",
    "#creating instance of the class\n",
    "person1=Person(\"rushi\",12)\n",
    "person2=Person('sanket',23)\n",
    "person1.name\n"
   ]
  },
  {
   "cell_type": "code",
   "execution_count": 8,
   "id": "64ee24df",
   "metadata": {},
   "outputs": [
    {
     "data": {
      "text/plain": [
       "23"
      ]
     },
     "execution_count": 8,
     "metadata": {},
     "output_type": "execute_result"
    }
   ],
   "source": [
    "person2.age"
   ]
  },
  {
   "cell_type": "raw",
   "id": "ea6a2df2",
   "metadata": {},
   "source": [
    "Methods: \n",
    "methods are functions defined within a class and operate on the class's attributes \n",
    "they can be classified into two types:\n",
    "\n",
    "1)Instance Methods:\n",
    "  Instance methods  take the self parameter as the frist argument which refers to the instance\n",
    "  invoking the method.\n",
    "  These methods can access and modify instance attributes.\n",
    "  instance methods are used to perform operations specific to individual instances of the class\n",
    "  "
   ]
  },
  {
   "cell_type": "code",
   "execution_count": 9,
   "id": "f4ce1d35",
   "metadata": {},
   "outputs": [],
   "source": [
    "class Calcualtor:\n",
    "    def __init__(self):\n",
    "        self.result=0\n",
    "    def add(self,num):\n",
    "        self.result+=num\n",
    "    def multiply(self,num):\n",
    "        self.result*=num\n",
    "        \n",
    "#creating an instance of the class\n",
    "cal=Calcualtor()\n",
    "cal.add(5)"
   ]
  },
  {
   "cell_type": "code",
   "execution_count": 10,
   "id": "d1e4d38f",
   "metadata": {},
   "outputs": [
    {
     "data": {
      "text/plain": [
       "5"
      ]
     },
     "execution_count": 10,
     "metadata": {},
     "output_type": "execute_result"
    }
   ],
   "source": [
    "cal.result"
   ]
  },
  {
   "cell_type": "code",
   "execution_count": 11,
   "id": "2f081cb0",
   "metadata": {},
   "outputs": [],
   "source": [
    "cal.multiply(12)"
   ]
  },
  {
   "cell_type": "code",
   "execution_count": 12,
   "id": "457f7e8d",
   "metadata": {},
   "outputs": [
    {
     "data": {
      "text/plain": [
       "60"
      ]
     },
     "execution_count": 12,
     "metadata": {},
     "output_type": "execute_result"
    }
   ],
   "source": [
    "cal.result"
   ]
  },
  {
   "cell_type": "raw",
   "id": "d3a6b3a6",
   "metadata": {},
   "source": [
    "2)class methods:\n",
    "  class method are decorated with @classmethod and take cls parameter as the frist arugment which\n",
    "  refers to the class itself.\n",
    "  they can be accessed and modify class attributes but not instance attributes sicne\n",
    "  do not have access to specific instance data\n",
    "  class methods are used when you want perform operations that affects the entire class, not \n",
    "  just individual instances."
   ]
  },
  {
   "cell_type": "code",
   "execution_count": 13,
   "id": "ee38205b",
   "metadata": {},
   "outputs": [],
   "source": [
    "class MyClass:\n",
    "    class_attribute=0\n",
    "    @classmethod\n",
    "    def increment_class_attribute(cls):\n",
    "        cls.class_attribute+=1\n",
    "        \n",
    "#using class method\n"
   ]
  },
  {
   "cell_type": "code",
   "execution_count": 14,
   "id": "b8d76691",
   "metadata": {},
   "outputs": [
    {
     "data": {
      "text/plain": [
       "1"
      ]
     },
     "execution_count": 14,
     "metadata": {},
     "output_type": "execute_result"
    }
   ],
   "source": [
    "MyClass.increment_class_attribute()\n",
    "MyClass.class_attribute"
   ]
  },
  {
   "cell_type": "raw",
   "id": "047798fc",
   "metadata": {},
   "source": [
    "5. What is the difference between class variables and instance variables in Python?\n",
    "\n",
    "    Difference between class methods and instance varibales:\n",
    "    Instance variable:\n",
    "    Instance variable are specific to each instance (object) of the class.\n",
    "    They are initialized and assigned values in the constructor (__init__) methods using self keyword.\n",
    "    Instance attribute represent the unique data for each object.\n",
    "    \n",
    "    class variables:\n",
    "    class varaibles are defined within the class and shared by all instances of the class\n",
    "    They are accessed using the class name and are same for objects of that class.\n",
    "    class variables are typically used for values that are constant across all instance.\n",
    "    "
   ]
  },
  {
   "cell_type": "raw",
   "id": "8e5de483",
   "metadata": {},
   "source": [
    "6. What is the purpose of the self parameter in Python class methods\n",
    "\n",
    "    Purpose of the self parameter in python class methods:\n",
    "    Self keyword is used as parameter in constructor or methods.\n",
    "    self keyword is refer to the current instance of the class.\n",
    "    self keyword is specify each instance of the class.\n",
    "    without self keyword in methods, this methods treated as class attributes, so \n",
    "    it can shared common values for all attributes in class."
   ]
  },
  {
   "cell_type": "code",
   "execution_count": 15,
   "id": "d676c655",
   "metadata": {},
   "outputs": [],
   "source": [
    "class Person:\n",
    "    #here we used self keyword as parameter \n",
    "    #to shared unique data for each instance\n",
    "    def __init__(self,name,age):\n",
    "        self.name=name\n",
    "        self.age=age\n",
    "        \n",
    "    def show(self):\n",
    "        print(f\"My name is {self.name} and I am {self.age} year old\")\n",
    "        "
   ]
  },
  {
   "cell_type": "code",
   "execution_count": 16,
   "id": "8fc11894",
   "metadata": {},
   "outputs": [],
   "source": [
    "person1=Person(\"Rushikesh\",21)"
   ]
  },
  {
   "cell_type": "code",
   "execution_count": 17,
   "id": "8fc5c646",
   "metadata": {},
   "outputs": [
    {
     "name": "stdout",
     "output_type": "stream",
     "text": [
      "My name is Rushikesh and I am 21 year old\n"
     ]
    }
   ],
   "source": [
    "person1.show()"
   ]
  },
  {
   "cell_type": "raw",
   "id": "675ecba8",
   "metadata": {},
   "source": [
    "7. For a library management system, you have to design the \"Book\" class with OOP principles in mind. The “Book” class will have following attributes: \n",
    "a. title: Represents the title of the book.\n",
    "b. author: Represents the author(s) of the book.\n",
    "c. isbn: Represents the ISBN (International Standard Book Number) of the book.\n",
    "d. publication_year: Represents the year of publication of the book.\n",
    "e. available_copies: Represents the number of copies available for checkout. \n",
    "The class will also include the following methods:"
   ]
  },
  {
   "cell_type": "raw",
   "id": "aa6f5974",
   "metadata": {},
   "source": [
    "a. check_out(self): Decrements the available copies by one if there are copies available for checkout.\n",
    "b. return_book(self): Increments the available copies by one when a book is returned.\n",
    "c. display_book_info(self): Displays the information about the book, including its attributes and the number of \n",
    "   available copies.\n"
   ]
  },
  {
   "cell_type": "code",
   "execution_count": 59,
   "id": "3ed0bc7a",
   "metadata": {},
   "outputs": [],
   "source": [
    "class Book:\n",
    "    def __init__(self,title,author,isbn,publication_year, available_copies):\n",
    "        self.title=title\n",
    "        self.author=author\n",
    "        self.isbn=isbn\n",
    "        self.publication_year=publication_year\n",
    "        self.available_copies=available_copies \n",
    "        \n",
    "        #checkout \n",
    "    def check_out(self):\n",
    "        if self.available_copies>=1:\n",
    "                return self.available_copies-1  \n",
    "            \n",
    "    def display_book_info(self):\n",
    "        print(f\"Title of my book {self.title} and it's author is {self.author} it's isbn {self.isbn} and its publication year is  {self.publication_year} available_copies : {self.available_copies}\")  \n",
    "        \n",
    "    def return_book(self):\n",
    "        return self.available_copies+1\n",
    "    \n",
    "    #creating object of the class\n",
    "    \n",
    "    book1=Book('Rich dad poor dad','Robert kiyosaki',12,2018,10)\n"
   ]
  },
  {
   "cell_type": "code",
   "execution_count": 60,
   "id": "eab0fa13",
   "metadata": {},
   "outputs": [
    {
     "data": {
      "text/plain": [
       "9"
      ]
     },
     "execution_count": 60,
     "metadata": {},
     "output_type": "execute_result"
    }
   ],
   "source": [
    "book1.check_out()"
   ]
  },
  {
   "cell_type": "code",
   "execution_count": 61,
   "id": "f229399d",
   "metadata": {},
   "outputs": [
    {
     "name": "stdout",
     "output_type": "stream",
     "text": [
      "Title of my book Rich dad poor dad and it's author is Robert kiyosaki it's isbn 12 and its publication year is  2018 available_copies : 10\n"
     ]
    }
   ],
   "source": [
    "book1.display_book_info()"
   ]
  },
  {
   "cell_type": "code",
   "execution_count": 62,
   "id": "d96d0864",
   "metadata": {},
   "outputs": [
    {
     "data": {
      "text/plain": [
       "11"
      ]
     },
     "execution_count": 62,
     "metadata": {},
     "output_type": "execute_result"
    }
   ],
   "source": [
    "book1.return_book()"
   ]
  },
  {
   "cell_type": "raw",
   "id": "c3cf68e9",
   "metadata": {},
   "source": [
    "8. For a ticket booking system, you have to design the \"Ticket\" class with OOP principles in mind. \n",
    "The “Ticket” class should have the following attributes: \n",
    "\n",
    "a. ticket_id: Represents the unique identifier for the ticket.\n",
    "b. event_name: Represents the name of the event.\n",
    "c. event_date: Represents the date of the event. \n",
    "d. venue: Represents the venue of the event.\n",
    "e. seat_number: Represents the seat number associated with the ticket.\n",
    "f. price: Represents the price of the ticket. \n",
    "g. is_reserved: Represents the reservation status of the ticket.\n",
    "\n",
    "\n",
    "The class also includes the following methods:\n",
    "a. reserve_ticket(self): Marks the ticket as reserved if it is not already reserved.\n",
    "b. cancel_reservation(self): Cancels the reservation of the ticket if it is already reserved. \n",
    "c. display_ticket_info(self): Displays the information about the ticket, including its attributes and reservation status."
   ]
  },
  {
   "cell_type": "code",
   "execution_count": 75,
   "id": "d68f1df5",
   "metadata": {},
   "outputs": [],
   "source": [
    "class Ticket:\n",
    "    def __init__(self,ticket_id,event_name,event_date,venue,seat_number,price,is_revserved):\n",
    "        self.ticket_id=ticket_id\n",
    "        self.event_name=event_name\n",
    "        self.event_date=event_date\n",
    "        self.venue=venue\n",
    "        self.seat_number=seat_number\n",
    "        self.price=price\n",
    "        self.is_revserved=is_revserved\n",
    "    def reserve_ticket(self):\n",
    "        if self.ticket_id==1234:\n",
    "            print(f\"My reservation is succesesful {self.ticket_id}\")\n",
    "           \n",
    "    def cancel_reservation(self):\n",
    "        if self.ticket_id==909:\n",
    "                print(\"oops can not reserved\")\n",
    "        \n",
    "        \n",
    "    def display_ticket_info(self):\n",
    "        print(f\"My ticket id is :{self.ticket_id} event name is {self.event_name} and it organised in {self.event_date}venue is {self.venue} my seat number is : {self.seat_number} and it is  price {self.price} and status of reservation {self.is_revserved}\")"
   ]
  },
  {
   "cell_type": "code",
   "execution_count": 76,
   "id": "72f7b0f0",
   "metadata": {},
   "outputs": [],
   "source": [
    "ticket1=Ticket(909,'ganesh chaturthi','13th augest','pune',345,100,'yes')"
   ]
  },
  {
   "cell_type": "code",
   "execution_count": 77,
   "id": "1da67f87",
   "metadata": {},
   "outputs": [],
   "source": [
    "# calling method for reserving ticket\n",
    "ticket1. reserve_ticket()"
   ]
  },
  {
   "cell_type": "code",
   "execution_count": 78,
   "id": "ce17631a",
   "metadata": {},
   "outputs": [
    {
     "name": "stdout",
     "output_type": "stream",
     "text": [
      "oops can not reserved\n"
     ]
    }
   ],
   "source": [
    "#calling method for cancelation of ticket\n",
    "ticket1.cancel_reservation()"
   ]
  },
  {
   "cell_type": "code",
   "execution_count": 80,
   "id": "9bee0d5e",
   "metadata": {},
   "outputs": [
    {
     "name": "stdout",
     "output_type": "stream",
     "text": [
      "My ticket id is :909 event name is ganesh chaturthi and it organised in 13th augestvenue is pune my seat number is : 345 and it is  price 100 and status of reservation yes\n"
     ]
    }
   ],
   "source": [
    "#calling the function for display infromation about attributes and methods\n",
    "ticket1.display_ticket_info()"
   ]
  },
  {
   "cell_type": "raw",
   "id": "5d5006eb",
   "metadata": {},
   "source": [
    "9. You are creating a shopping cart for an e-commerce website. Using OOP to model the \"ShoppingCart\" functionality the class should contain following attributes and methods:\n",
    "a. items: Represents the list of items in the shopping cart.\n",
    "\n",
    "The class also includes the following methods:\n",
    "\n",
    "a. add_item(self, item): Adds an item to the shopping cart by appending it to the list of items.\n",
    "b. remove_item(self, item): Removes an item from the shopping cart if it exists in the list. \n",
    "c. view_cart(self): Displays the items currently present in the shopping cart.\n",
    "d. clear_cart(self): Clears all items from the shopping cart by reassigning an empty list to the items attribute.\n"
   ]
  },
  {
   "cell_type": "code",
   "execution_count": 97,
   "id": "85f764e5",
   "metadata": {},
   "outputs": [],
   "source": [
    "class ShoppingCart:\n",
    "    def __init__(self,item):\n",
    "        self.item=item\n",
    "        \n",
    "    def add_item(self,item):\n",
    "        print(f\"here  we add item: {self.item}\")\n",
    "    \n",
    "    def remove_item(self,item):\n",
    "        print(f\"removed item {self.item}\")\n",
    "    \n",
    "    def view_cart(self):\n",
    "        print(self.item)\n",
    "    \n",
    "    def clear_cart(self):\n",
    "        print(self.item)"
   ]
  },
  {
   "cell_type": "code",
   "execution_count": 98,
   "id": "3f65b2b1",
   "metadata": {},
   "outputs": [],
   "source": [
    "#creating object of the class\n",
    "shop=ShoppingCart('camera')"
   ]
  },
  {
   "cell_type": "code",
   "execution_count": 99,
   "id": "cc30d814",
   "metadata": {},
   "outputs": [
    {
     "name": "stdout",
     "output_type": "stream",
     "text": [
      "here  we add item: camera\n"
     ]
    }
   ],
   "source": [
    "#here we add item \n",
    "shop.add_item('tv')"
   ]
  },
  {
   "cell_type": "code",
   "execution_count": 100,
   "id": "346897c0",
   "metadata": {},
   "outputs": [
    {
     "name": "stdout",
     "output_type": "stream",
     "text": [
      "here  we add item: camera\n"
     ]
    }
   ],
   "source": [
    "#here we add item\n",
    "shop.add_item('phone')"
   ]
  },
  {
   "cell_type": "code",
   "execution_count": 101,
   "id": "5892c66e",
   "metadata": {},
   "outputs": [
    {
     "name": "stdout",
     "output_type": "stream",
     "text": [
      "camera\n"
     ]
    }
   ],
   "source": [
    "#here we view the item\n",
    "shop.view_cart()"
   ]
  },
  {
   "cell_type": "code",
   "execution_count": 102,
   "id": "ea2c04f9",
   "metadata": {},
   "outputs": [
    {
     "name": "stdout",
     "output_type": "stream",
     "text": [
      "removed item camera\n"
     ]
    }
   ],
   "source": [
    "#here we remove the item\n",
    "shop.remove_item('phone')"
   ]
  },
  {
   "cell_type": "code",
   "execution_count": 103,
   "id": "a0846dcb",
   "metadata": {},
   "outputs": [
    {
     "name": "stdout",
     "output_type": "stream",
     "text": [
      "camera\n"
     ]
    }
   ],
   "source": [
    "#here we clear add items\n",
    "shop.clear_cart()"
   ]
  },
  {
   "cell_type": "raw",
   "id": "20c4a42d",
   "metadata": {},
   "source": [
    "10. Imagine a school management system. You have to design the \"Student\" class using OOP concepts.The “Student” class has the following attributes:\n",
    "a. name: Represents the name of the student. \n",
    "b. age: Represents the age of the student.\n",
    "c. grade: Represents the grade or class of the student.\n",
    "d. student_id: Represents the unique identifier for the student.\n",
    "e. attendance: Represents the attendance record of the student.\n",
    "\n",
    "The class should also include the following methods:\n",
    "a. update_attendance(self, date, status): Updates the attendance record of the student for a given date with the provided status (e.g., present or absent).\n",
    "b. get_attendance(self): Returns the attendance record of the student.\n",
    "c. get_average_attendance(self): Calculates and returns the average attendance percentage of the student based on their attendance record."
   ]
  },
  {
   "cell_type": "code",
   "execution_count": 160,
   "id": "2992f24f",
   "metadata": {},
   "outputs": [],
   "source": [
    "class Student:\n",
    "    def __init__(self,name,age,grade,student_id,attendance):\n",
    "        self.name=name\n",
    "        self.age=age\n",
    "        self.grade=grade\n",
    "        self.student_id=student_id\n",
    "        self.attendance=attendance\n",
    "    def update_attendance(self,date,status):\n",
    "        if self.student_id=='A-60':\n",
    "            print(f\"attendance of the student in: {date} and status of the student: {status}\")\n",
    "       \n",
    "    def get_attendance(self):\n",
    "           if self.attendance=='yes':\n",
    "                print(self.attendance)\n",
    "        \n",
    "    def get_avg_attendance(self):\n",
    "        if self.attendance=='yes':\n",
    "            print(f\"average percentage of attendance of a student {self.attendance}\")\n",
    "           "
   ]
  },
  {
   "cell_type": "code",
   "execution_count": 161,
   "id": "59698806",
   "metadata": {},
   "outputs": [],
   "source": [
    "stud=Student(\"Rushieksh\",21,'A','A-60','yes')"
   ]
  },
  {
   "cell_type": "code",
   "execution_count": 162,
   "id": "87a161c5",
   "metadata": {},
   "outputs": [
    {
     "name": "stdout",
     "output_type": "stream",
     "text": [
      "attendance of the student in: 12th augest and status of the student: present\n"
     ]
    }
   ],
   "source": [
    "stud.update_attendance('12th augest','present')"
   ]
  },
  {
   "cell_type": "code",
   "execution_count": 163,
   "id": "24cc2d9f",
   "metadata": {},
   "outputs": [
    {
     "name": "stdout",
     "output_type": "stream",
     "text": [
      "yes\n"
     ]
    }
   ],
   "source": [
    "stud.get_attendance()"
   ]
  },
  {
   "cell_type": "code",
   "execution_count": 164,
   "id": "a57d4b90",
   "metadata": {},
   "outputs": [
    {
     "name": "stdout",
     "output_type": "stream",
     "text": [
      "average percentage of attendance of a student yes\n"
     ]
    }
   ],
   "source": [
    "stud.get_avg_attendance()"
   ]
  },
  {
   "cell_type": "code",
   "execution_count": null,
   "id": "bb4dfbc1",
   "metadata": {},
   "outputs": [],
   "source": []
  }
 ],
 "metadata": {
  "kernelspec": {
   "display_name": "Python 3 (ipykernel)",
   "language": "python",
   "name": "python3"
  },
  "language_info": {
   "codemirror_mode": {
    "name": "ipython",
    "version": 3
   },
   "file_extension": ".py",
   "mimetype": "text/x-python",
   "name": "python",
   "nbconvert_exporter": "python",
   "pygments_lexer": "ipython3",
   "version": "3.10.9"
  }
 },
 "nbformat": 4,
 "nbformat_minor": 5
}
