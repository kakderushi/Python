{
 "cells": [
  {
   "cell_type": "raw",
   "id": "58a00d9c",
   "metadata": {},
   "source": [
    "1.) What is the role of the 'else' block in a try-except statement? Provide an example scenario where it would be useful."
   ]
  },
  {
   "cell_type": "raw",
   "id": "39e16f4c",
   "metadata": {},
   "source": [
    "The role of 'else block' in a try except block, it will executed when the try block of code is not rasie any type of error\n",
    "then the else part of the code is exceuted.\n"
   ]
  },
  {
   "cell_type": "code",
   "execution_count": 1,
   "id": "173b5a09",
   "metadata": {},
   "outputs": [
    {
     "name": "stdout",
     "output_type": "stream",
     "text": [
      "enter the num110\n",
      "enter the num20\n",
      "we cannot divide a number by zero!\n"
     ]
    }
   ],
   "source": [
    "try:\n",
    "    x=int(input(\"enter the num1\"))\n",
    "    y=int(input(\"enter the num2\"))\n",
    "    res=x/y\n",
    "    print(res)\n",
    "except ZeroDivisionError:\n",
    "    print(\"we cannot divide a number by zero!\")\n",
    "else:\n",
    "    print(\"It will work in right way !\")"
   ]
  },
  {
   "cell_type": "raw",
   "id": "7b80069a",
   "metadata": {},
   "source": [
    "In above example we can see it after try block of code is succesesfully executed, then it aslo executed else part of the program."
   ]
  },
  {
   "cell_type": "raw",
   "id": "74ff61e4",
   "metadata": {},
   "source": [
    "2.) Can a try-except block be nested inside another try-except block? Explain with an example."
   ]
  },
  {
   "cell_type": "raw",
   "id": "62d22c4c",
   "metadata": {},
   "source": [
    "Yes, we can use try except block nested inside another try-except block this called as nested exception handling,\n",
    "It allows to handle different level of exception  at differnet different level of code execution."
   ]
  },
  {
   "cell_type": "code",
   "execution_count": 2,
   "id": "afa8867e",
   "metadata": {},
   "outputs": [
    {
     "name": "stdout",
     "output_type": "stream",
     "text": [
      "enter the numerator10\n",
      "enter the denomintor0\n",
      "we cannot divide numerator by zero\n"
     ]
    }
   ],
   "source": [
    "try:\n",
    "    #outer try \n",
    "    try:\n",
    "        #inner try block\n",
    "        numerator=int(input(\"enter the numerator\"))\n",
    "        denomintor=int(input(\"enter the denomintor\"))\n",
    "        res=numerator/denomintor\n",
    "        print(res)\n",
    "        #inner except block\n",
    "    except ZeroDivisionError:\n",
    "        print(\"we cannot divide numerator by zero\")\n",
    "        #outer except block\n",
    "except:\n",
    "    print(\"suppose any eerror occured in the try block\")\n",
    "        "
   ]
  },
  {
   "cell_type": "raw",
   "id": "1f1dfad3",
   "metadata": {},
   "source": [
    "In above example we can see, we used to nested try-except block ,Frist we use outer try then we use inner try after that we used\n",
    "inner except block and outer except block."
   ]
  },
  {
   "cell_type": "raw",
   "id": "ccda1319",
   "metadata": {},
   "source": [
    "3. How can you create a custom exception class in Python? Provide an example that demonstrates its usage."
   ]
  },
  {
   "cell_type": "raw",
   "id": "7a752e3a",
   "metadata": {},
   "source": [
    "To create custom exception in python, you need to define new class that inherits the built-in 'exception' \n",
    "class or any subclasses this custom class can be raise or handle exception.\n"
   ]
  },
  {
   "cell_type": "code",
   "execution_count": 5,
   "id": "43433e3d",
   "metadata": {},
   "outputs": [
    {
     "name": "stdout",
     "output_type": "stream",
     "text": [
      "Error: Division by zero is not allowed.\n"
     ]
    }
   ],
   "source": [
    "class CustomException(Exception):\n",
    "    def __init__(self, message):\n",
    "        self.message = message\n",
    "\n",
    "    def __str__(self):\n",
    "        return self.message\n",
    "\n",
    "\n",
    "def divide_numbers(a, b):\n",
    "    if b == 0:\n",
    "        raise CustomException(\"Division by zero is not allowed.\")\n",
    "    return a / b\n",
    "\n",
    "\n",
    "try:\n",
    "    result = divide_numbers(10, 0)\n",
    "    print(\"Result:\", result)\n",
    "except CustomException as e:\n",
    "    print(\"Error:\", e)\n"
   ]
  },
  {
   "cell_type": "raw",
   "id": "36b9a74c",
   "metadata": {},
   "source": [
    "In this example, we create a custom exception class called CustomException that inherits from the built-in Exception class. The CustomException class has an __init__ method to initialize the exception with a custom error message, and a __str__ method to define the string representation of the exception when it is printed.\n",
    "\n",
    "We then define a function called divide_numbers that takes two arguments and performs division. If the second argument is zero, it raises an instance of the CustomException class with a specific error message.\n",
    "\n",
    "In the try block, we call the divide_numbers function with arguments 10 and 0, which triggers the CustomException to be raised. The except block catches the CustomException and assigns it to the variable e, allowing us to access the error message using e.message. In this case, it will print \"Error: Division by zero is not allowed.\"\n",
    "\n",
    "By creating a custom exception class, you can define specific types of exceptions that are meaningful in the context of your application and handle them accordingly.\n"
   ]
  },
  {
   "cell_type": "raw",
   "id": "e700f2a8",
   "metadata": {},
   "source": [
    "4. What are some common exceptions that are built-in to Python?"
   ]
  },
  {
   "cell_type": "raw",
   "id": "6eb92fc4",
   "metadata": {},
   "source": [
    "TypeError: Raised when an operation or function is performed on an object of inappropriate type.\n",
    "\n",
    "ValueError: Raised when a function receives an argument of the correct type but an invalid value.\n",
    "\n",
    "NameError: Raised when a local or global name is not found.\n",
    "\n",
    "IndexError: Raised when a sequence subscript is out of range.\n",
    "\n",
    "KeyError: Raised when a dictionary key is not found\n",
    ".\n",
    "FileNotFoundError: Raised when a file or directory is not found.\n",
    "\n",
    "IOError: Raised when an input/output operation fails.\n",
    "\n",
    "ZeroDivisionError: Raised when division or modulo operation is performed with zero as the divisor.\n",
    "\n",
    "AttributeError: Raised when an attribute reference or assignment fails.\n",
    "\n",
    "\n",
    "ImportError: Raised when an import statement fails to find the module or function.\n",
    "\n",
    "TypeError: Raised when an operation or function is performed on an object of inappropriate type.\n",
    "\n",
    "OverflowError: Raised when the result of an arithmetic operation is too large to be expressed within the given numeric type.\n",
    "\n",
    "MemoryError: Raised when an operation fails due to lack of memory.\n",
    "\n",
    "StopIteration: Raised to signal the end of an iterator.\n",
    "\n",
    "KeyboardInterrupt: Raised when the user interrupts the execution, typically by pressing Ctrl+C.\n",
    "\n",
    "\n",
    "These are just a few examples of the many built-in exceptions available in Python. Each exception provides specific information about the type of error that occurred, allowing you to handle them appropriately in your code.\n"
   ]
  },
  {
   "cell_type": "raw",
   "id": "f9390968",
   "metadata": {},
   "source": [
    "5. What is logging in Python, and why is it important in software development?"
   ]
  },
  {
   "cell_type": "raw",
   "id": "84ca75ff",
   "metadata": {},
   "source": [
    " Logging in Python is a built-in module that allows you to record status, progress, and error messages during the execution of a   program. It provides a flexible and configurable way to collect and store log messages for analysis and debugging purposes.\n",
    " "
   ]
  },
  {
   "cell_type": "raw",
   "id": "bbc5bd0f",
   "metadata": {},
   "source": [
    "Logging is important in software development for several reasons:\n",
    "\n",
    "Debugging and troubleshooting: Logging helps in identifying and diagnosing issues by providing a detailed record of the program's execution. When unexpected errors occur, log messages can provide valuable information about the state of the program, variable values, and the sequence of events leading to the error.\n",
    "\n",
    "Monitoring and maintenance: Logging allows developers to monitor the health and performance of an application in production. By logging relevant information, such as resource usage, processing times, and critical events, developers can identify bottlenecks, track performance trends, and optimize the application as needed.\n",
    "\n",
    "Auditing and compliance: Logging can be used for auditing purposes, especially in systems that handle sensitive data or require compliance with certain regulations. By logging relevant actions and events, you can track user interactions, system activities, and detect any unauthorized access or suspicious behavior.\n",
    "\n",
    "Understanding user behavior: Logging can provide insights into how users interact with an application. By logging user actions, preferences, and usage patterns, you can analyze the data to improve user experience, identify popular features, and make data-driven decisions for future development.\n",
    "\n",
    "Error reporting: Logging allows you to capture and report errors systematically. By logging exceptions, stack traces, and relevant contextual information, you can generate error reports that help in understanding and resolving issues reported by users.\n",
    "\n",
    "Documentation and historical records: Logging serves as a historical record of events and activities within an application. It can help in documenting the behavior of the software, tracking changes, and providing a timeline of actions for future reference.\n"
   ]
  },
  {
   "cell_type": "raw",
   "id": "cd40aa21",
   "metadata": {},
   "source": [
    "6. Explain the purpose of log levels in Python logging and provide examples of when each log level would be appropriate."
   ]
  },
  {
   "cell_type": "raw",
   "id": "ae3f103a",
   "metadata": {},
   "source": [
    "Log levels in Python logging define the severity or importance of a log message. They help in categorizing and filtering log messages based on their significance, allowing developers to control the verbosity and detail of logging output. Python's logging module provides the following built-in log levels:\n",
    "\n",
    "DEBUG: The lowest log level used for detailed diagnostic information. It is typically used during development and debugging stages to provide fine-grained information about the program's execution, variable values, and intermediate steps. Example: Logging detailed function call information for troubleshooting complex issues.\n",
    "\n",
    "INFO: A general informational message to indicate the normal flow of the program. It gives a high-level overview of the application's progress and important milestones. Example: Logging when the application starts or stops, or providing summary information about the program's state.\n",
    "\n",
    "WARNING: An indication of a potential issue or something that could lead to an error in the future. It highlights abnormal or unexpected events that don't necessarily cause the program to fail but require attention. Example: Logging deprecated function usage or non-critical configuration warnings.\n",
    "\n",
    "ERROR: A message indicating a significant problem or error that occurred during the program's execution. It signifies that an operation or functionality couldn't be completed successfully but doesn't necessarily terminate the program. Example: Logging an exception that was caught and handled, or recording an error in an external service call.\n",
    "\n",
    "CRITICAL: The highest log level used to indicate a critical failure or error that requires immediate attention. It typically results in the termination of the program or a severe impact on the system. Example: Logging a database connection failure or a security breach attempt.\n"
   ]
  },
  {
   "cell_type": "code",
   "execution_count": 6,
   "id": "0291343b",
   "metadata": {},
   "outputs": [
    {
     "name": "stderr",
     "output_type": "stream",
     "text": [
      "DEBUG:my_logger:This is a debug message\n",
      "INFO:my_logger:This is an info message\n",
      "WARNING:my_logger:This is a warning message\n",
      "ERROR:my_logger:This is an error message\n",
      "CRITICAL:my_logger:This is a critical message\n"
     ]
    }
   ],
   "source": [
    "import logging\n",
    "\n",
    "# Configure the logging\n",
    "logging.basicConfig(level=logging.DEBUG)\n",
    "\n",
    "# Create a logger\n",
    "logger = logging.getLogger(\"my_logger\")\n",
    "\n",
    "# Log messages with different levels\n",
    "logger.debug(\"This is a debug message\")      # Detailed diagnostic information\n",
    "logger.info(\"This is an info message\")       # General informational message\n",
    "logger.warning(\"This is a warning message\")  # Indication of a potential issue\n",
    "logger.error(\"This is an error message\")      # Signifies a significant problem\n",
    "logger.critical(\"This is a critical message\") # Indicates a critical failure\n"
   ]
  },
  {
   "cell_type": "raw",
   "id": "d220d266",
   "metadata": {},
   "source": [
    "7. What are log formatters in Python logging, and how can you customise the log message format using formatters"
   ]
  },
  {
   "cell_type": "raw",
   "id": "b7536e5b",
   "metadata": {},
   "source": [
    "Log formatters in Python logging allow you to customize the format of log messages. They define the structure and content of the log output, including the timestamp, log level, message, and any additional information you want to include.\n",
    "\n",
    "Python's logging module provides a default log formatter, but you can create your own custom formatter or modify the default formatter to suit your specific requirements.\n",
    "\n",
    "To customize the log message format using formatters, you can follow these steps:\n",
    "\n",
    "Import the logging module: Start by importing the logging module in your Python script or module."
   ]
  },
  {
   "cell_type": "code",
   "execution_count": 7,
   "id": "4173a71f",
   "metadata": {},
   "outputs": [],
   "source": [
    "import logging"
   ]
  },
  {
   "cell_type": "raw",
   "id": "f3a40557",
   "metadata": {},
   "source": [
    "Create a formatter instance: Instantiate a logging.Formatter object to define the format of the log messages."
   ]
  },
  {
   "cell_type": "code",
   "execution_count": 8,
   "id": "34e61027",
   "metadata": {},
   "outputs": [],
   "source": [
    "formatter = logging.Formatter('%(asctime)s - %(levelname)s - %(message)s')\n"
   ]
  },
  {
   "cell_type": "raw",
   "id": "318e0aba",
   "metadata": {},
   "source": [
    "%(asctime)s: Inserts the timestamp of the log message.\n",
    "%(levelname)s: Inserts the log level (e.g., DEBUG, INFO, WARNING, ERROR, CRITICAL).\n",
    "%(message)s: Inserts the actual log message.\n",
    "You can customize the format by adding or removing placeholders and adding any desired text or formatting."
   ]
  },
  {
   "cell_type": "raw",
   "id": "60dc17fa",
   "metadata": {},
   "source": [
    "Create a handler and assign the formatter: Create a logging handler (such as StreamHandler, FileHandler, etc.) and associate the formatter with it."
   ]
  },
  {
   "cell_type": "code",
   "execution_count": 9,
   "id": "1e91d8fb",
   "metadata": {},
   "outputs": [],
   "source": [
    "handler = logging.StreamHandler()\n",
    "handler.setFormatter(formatter)\n"
   ]
  },
  {
   "cell_type": "raw",
   "id": "35b8a757",
   "metadata": {},
   "source": [
    "In this example, a StreamHandler is created to output log messages to the console. You can use different handlers depending on your needs (e.g., FileHandler to write to a file)."
   ]
  },
  {
   "cell_type": "raw",
   "id": "4b50445d",
   "metadata": {},
   "source": [
    "Create a logger and add the handler: Create a logger instance and add the handler to it."
   ]
  },
  {
   "cell_type": "code",
   "execution_count": 10,
   "id": "d8e0b1a6",
   "metadata": {},
   "outputs": [],
   "source": [
    "logger = logging.getLogger('my_logger')\n",
    "logger.addHandler(handler)\n"
   ]
  },
  {
   "cell_type": "raw",
   "id": "e0787fc5",
   "metadata": {},
   "source": [
    "Log messages using the logger: Use the logger to log messages at different log levels."
   ]
  },
  {
   "cell_type": "raw",
   "id": "1368d41e",
   "metadata": {},
   "source": [
    "logger.debug('This is a debug message')\n",
    "logger.info('This is an info message')\n",
    "logger.warning('This is a warning message')\n",
    "logger.error('This is an error message')\n",
    "logger.critical('This is a critical message')\n"
   ]
  },
  {
   "cell_type": "raw",
   "id": "33e3780b",
   "metadata": {},
   "source": [
    "The log messages will be formatted according to the formatter specified earlier.\n",
    "\n",
    "By customizing the log message format using formatters, you have control over how the log messages are structured, \n",
    "what information is included, and how it is presented. This allows you to tailor the logging output to meet your specific needs, making it easier to read, analyze, and troubleshoot the logged information."
   ]
  },
  {
   "cell_type": "raw",
   "id": "03931dff",
   "metadata": {},
   "source": [
    "8. How can you set up logging to capture log messages from multiple modules or classes in a Python application?"
   ]
  },
  {
   "cell_type": "raw",
   "id": "e89dcfcf",
   "metadata": {},
   "source": [
    "To Capture logging to capture log messages from multiple modules or classes in a python application\n",
    "we use python logging module. The logging module provides :"
   ]
  },
  {
   "cell_type": "code",
   "execution_count": 2,
   "id": "13e39ff8",
   "metadata": {},
   "outputs": [],
   "source": [
    "#import the logging module\n",
    "import logging\n",
    "\n",
    "#configure the logging system\n",
    "\n",
    "logging.basicConfig(level=logging.DEBUG, format='%(asctime)s - %(name)s - %(levelname)s - %(message)s')\n",
    "\n",
    "\n"
   ]
  },
  {
   "cell_type": "raw",
   "id": "93bcc06f",
   "metadata": {},
   "source": [
    "To create logger instance in each module or class where you want to capture log messages"
   ]
  },
  {
   "cell_type": "code",
   "execution_count": 4,
   "id": "0790e930",
   "metadata": {},
   "outputs": [],
   "source": [
    "logger = logging.getLogger(__name__)\n"
   ]
  },
  {
   "cell_type": "raw",
   "id": "a27d0477",
   "metadata": {},
   "source": [
    "The --name-- variable will be automatically set the module or class where it is called"
   ]
  },
  {
   "cell_type": "code",
   "execution_count": 5,
   "id": "d5f0f07f",
   "metadata": {},
   "outputs": [
    {
     "name": "stderr",
     "output_type": "stream",
     "text": [
      "2023-07-14 14:47:24,430 - __main__ - DEBUG - Debug message\n",
      "2023-07-14 14:47:24,438 - __main__ - INFO - Info message\n",
      "2023-07-14 14:47:24,438 - __main__ - WARNING - Warning message\n",
      "2023-07-14 14:47:24,438 - __main__ - ERROR - Error message\n",
      "2023-07-14 14:47:24,445 - __main__ - CRITICAL - Critical message\n"
     ]
    }
   ],
   "source": [
    "#start logging meassageses\n",
    "\n",
    "logger.debug(\"Debug message\")\n",
    "logger.info(\"Info message\")\n",
    "logger.warning(\"Warning message\")\n",
    "logger.error(\"Error message\")\n",
    "logger.critical(\"Critical message\")\n"
   ]
  },
  {
   "cell_type": "raw",
   "id": "b7600146",
   "metadata": {},
   "source": [
    "You can use any of the logging methods (debug, info, warning, error, critical) to log messages at different levels of severity.\n",
    "\n",
    "Run your Python application and check the output. By default, the log messages will be printed to the console. However, you can configure the logging system to store logs in files or send them to other destinations.\n",
    "It's important to note that the logging configuration should be performed before any log messages are emitted, typically at the beginning of your application. This ensures that all loggers across different modules or classes use the same configuration.\n",
    "\n",
    "By following these steps, you can set up logging to capture log messages from multiple modules or classes in your Python application"
   ]
  },
  {
   "cell_type": "raw",
   "id": "e5aedb8a",
   "metadata": {},
   "source": [
    "9.) What is the difference between the logging and print statements in Python? When should you use logging over print statements in a real-world application?"
   ]
  },
  {
   "cell_type": "raw",
   "id": "6a494bff",
   "metadata": {},
   "source": [
    "Destination: The print statement sends output to the standard output stream (usually the console), while logging provides the flexibility to send log messages to various destinations such as the console, files, network sockets, email, or external logging services.\n",
    "\n",
    "Severity Levels: Logging allows you to categorize log messages with different severity levels (e.g., DEBUG, INFO, WARNING, ERROR, CRITICAL). This helps in distinguishing between different types of messages and enables you to filter and handle them differently based on their importance. On the other hand, print statements do not have built-in severity levels.\n",
    "\n",
    "Flexibility and Configurability: Logging provides a highly flexible and configurable logging system. You can customize the log message format, set the logging level, define multiple loggers, apply filters, and specify handlers to control where the log messages are sent. This configurability is particularly useful in large applications with multiple modules and classes. With print statements, you have limited control over the output format and destination.\n",
    "\n",
    "Debugging and Troubleshooting: Logging is especially useful for debugging and troubleshooting purposes. You can selectively enable or disable logging for specific modules or classes, allowing you to focus on relevant log messages. Additionally, you can configure logging to capture detailed information such as timestamps, loggers' names, and stack traces, which can aid in diagnosing issues. Print statements, while helpful for basic debugging, lack the advanced features and flexibility provided by the logging module."
   ]
  },
  {
   "cell_type": "raw",
   "id": "7846fd29",
   "metadata": {},
   "source": [
    "10. Write a Python program that logs a message to a file named \"app.log\" with the following requirements: \n",
    "● The log message should be \"Hello, World!\" \n",
    "● The log level should be set to \"INFO.\" \n",
    "● The log file should append new log entries without overwriting previous ones"
   ]
  },
  {
   "cell_type": "code",
   "execution_count": 6,
   "id": "8f560f8d",
   "metadata": {},
   "outputs": [
    {
     "name": "stderr",
     "output_type": "stream",
     "text": [
      "2023-07-14 14:52:08,049 - root - INFO - Hello, World!\n"
     ]
    }
   ],
   "source": [
    "import logging\n",
    "\n",
    "# Configure the logging system\n",
    "logging.basicConfig(filename='app.log', level=logging.INFO, format='%(asctime)s - %(levelname)s - %(message)s')\n",
    "\n",
    "# Log the message\n",
    "logging.info(\"Hello, World!\")\n"
   ]
  },
  {
   "cell_type": "raw",
   "id": "f3de5efc",
   "metadata": {},
   "source": [
    "The logging.basicConfig() function is used to configure the logging system. We specify the log file name as 'app.log', set the logging level to logging.INFO, and define the format of the log message using format='%(asctime)s - %(levelname)s - %(message)s'. Adjust the log file name and format as needed.\n",
    "The logging.info() function is used to log the message \"Hello, World!\" at the INFO level.\n",
    "When you run this program, it will append the log entry to the \"app.log\" file without overwriting previous log entries. Each log entry will include the timestamp, log level, and message in the specified format.\n",
    "\n",
    "Make sure you have write permissions in the directory where the program is executed to create and write to the log file."
   ]
  },
  {
   "cell_type": "raw",
   "id": "3d82f0cc",
   "metadata": {},
   "source": [
    "11. Create a Python program that logs an error message to the console and a file named \"errors.log\" if an exception occurs during the program's execution. The error message should include the exception type and a timestamp"
   ]
  },
  {
   "cell_type": "code",
   "execution_count": 7,
   "id": "1b226e0d",
   "metadata": {},
   "outputs": [
    {
     "name": "stderr",
     "output_type": "stream",
     "text": [
      "2023-07-14 14:53:09,778 - root - ERROR - ValueError - An example exception occurred.\n"
     ]
    },
    {
     "name": "stdout",
     "output_type": "stream",
     "text": [
      "Exception occurred. Please check the error logs.\n"
     ]
    }
   ],
   "source": [
    "import logging\n",
    "import datetime\n",
    "\n",
    "# Configure the logging system\n",
    "logging.basicConfig(level=logging.ERROR, format='%(asctime)s - %(levelname)s - %(message)s')\n",
    "\n",
    "# Configure logging to file\n",
    "file_handler = logging.FileHandler('errors.log')\n",
    "file_handler.setLevel(logging.ERROR)\n",
    "file_handler.setFormatter(logging.Formatter('%(asctime)s - %(levelname)s - %(message)s'))\n",
    "logging.getLogger('').addHandler(file_handler)\n",
    "\n",
    "try:\n",
    "    # Your program logic here\n",
    "    # ...\n",
    "    # Simulate an exception for demonstration\n",
    "    raise ValueError(\"An example exception occurred.\")\n",
    "\n",
    "except Exception as e:\n",
    "    # Log the exception\n",
    "    error_message = f\"{type(e).__name__} - {str(e)}\"\n",
    "    logging.error(error_message)\n",
    "    print(\"Exception occurred. Please check the error logs.\")\n"
   ]
  },
  {
   "cell_type": "raw",
   "id": "077a9c1d",
   "metadata": {},
   "source": [
    "The logging.basicConfig() function is used to configure the logging system. We set the logging level to logging.ERROR to capture only error-level log messages.\n",
    "A FileHandler is configured to log errors to the \"errors.log\" file. The file handler is set to the logging.ERROR level and has a specific format for log messages.\n",
    "The program logic is placed within a try-except block. You should replace the # Your program logic here comment with your actual program code.\n",
    "Inside the except block, the exception is caught, and the error message is constructed by combining the exception type (type(e).__name__) and the exception message (str(e)).\n",
    "The error message is logged using logging.error() to both the console and the \"errors.log\" file.\n",
    "A message is printed to the console to indicate that an exception occurred.\n",
    "When you run this program and an exception occurs, it will log the error message to both the console and the \"errors.log\" file. The error message will include the exception type, the exception message, and the timestamp.\n",
    "\n",
    "Ensure that you have write permissions in the directory where the program is executed to create and write to the log file.\n"
   ]
  }
 ],
 "metadata": {
  "kernelspec": {
   "display_name": "Python 3 (ipykernel)",
   "language": "python",
   "name": "python3"
  },
  "language_info": {
   "codemirror_mode": {
    "name": "ipython",
    "version": 3
   },
   "file_extension": ".py",
   "mimetype": "text/x-python",
   "name": "python",
   "nbconvert_exporter": "python",
   "pygments_lexer": "ipython3",
   "version": "3.10.9"
  }
 },
 "nbformat": 4,
 "nbformat_minor": 5
}
