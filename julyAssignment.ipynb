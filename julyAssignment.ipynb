{
 "cells": [
  {
   "cell_type": "markdown",
   "id": "629d293f",
   "metadata": {},
   "source": [
    "1) Explain what inheritance is in object-oriented programming and why it is used."
   ]
  },
  {
   "cell_type": "raw",
   "id": "5810899a",
   "metadata": {},
   "source": [
    "In object oriented programming (opp) , inheritance is a mechanism that allows a new class\n",
    "called the derived class or subclass, to inherit the properties and beahviors of an existing class,\n",
    "known as the base class or supeclass. this means that the subclass can reuse the code and functionality of the \n",
    "superclass , promoting code reusability and creating a hierarchical relationship between classes\n",
    "\n",
    "1) code Reusability:\n",
    "\n",
    "Inheriatnce enables the reuse of code from existing classes, reducing redundancy and promoting modular design. Instead of writing the same code in multile classes, you define it once in a base class and inherit it in multiple subclasses\n",
    "\n",
    "2)Derived class Enhancement:\n",
    "\n",
    "The derived class can extend or modify the functionality of the base class. it can add new attributes, methods , or override existing methods to tailor the behavior to its specific requirments\n"
   ]
  },
  {
   "cell_type": "markdown",
   "id": "09408419",
   "metadata": {},
   "source": [
    "2. Discuss the concept of single inheritance and multiple inheritance, highlighting their differences and advantages.\n"
   ]
  },
  {
   "cell_type": "raw",
   "id": "015cf793",
   "metadata": {},
   "source": [
    "Single inheritance:\n",
    "\n",
    "In single inheritance, a class can inherit from only one base class. this means can have only one direct ancestor."
   ]
  },
  {
   "cell_type": "code",
   "execution_count": 1,
   "id": "2c091f86",
   "metadata": {},
   "outputs": [],
   "source": [
    "class Animal:\n",
    "    def eat(self):\n",
    "        print(\"Eating\")\n",
    "class Dog(Animal):\n",
    "    def bark(self):\n",
    "        print(\"woff\")\n",
    "# dog inherit from Animal class"
   ]
  },
  {
   "cell_type": "code",
   "execution_count": 4,
   "id": "18b6de84",
   "metadata": {},
   "outputs": [
    {
     "name": "stdout",
     "output_type": "stream",
     "text": [
      "Eating\n",
      "woff\n"
     ]
    }
   ],
   "source": [
    "dog=Dog()\n",
    "dog.eat()\n",
    "dog.bark()"
   ]
  },
  {
   "cell_type": "raw",
   "id": "4a9a806e",
   "metadata": {},
   "source": [
    "Multiple Inheritance:\n",
    "\n",
    "Multiple inheritance allows a class to inherit from more than one base class this means that a subclass can have multiple direct ancestors"
   ]
  },
  {
   "cell_type": "code",
   "execution_count": 5,
   "id": "27677bb4",
   "metadata": {},
   "outputs": [],
   "source": [
    "class Flyable:\n",
    "    def fly(self):\n",
    "        print(\"Flying\")\n",
    "class Bird(Animal,Flyable):\n",
    "    pass\n",
    "#Bird class have more then one base class"
   ]
  },
  {
   "cell_type": "code",
   "execution_count": 8,
   "id": "fff70a47",
   "metadata": {},
   "outputs": [
    {
     "name": "stdout",
     "output_type": "stream",
     "text": [
      "Eating\n",
      "Flying\n"
     ]
    }
   ],
   "source": [
    "bird=Bird()\n",
    "bird.eat()\n",
    "bird.fly()"
   ]
  },
  {
   "cell_type": "markdown",
   "id": "60c67bdd",
   "metadata": {},
   "source": [
    "Difference :"
   ]
  },
  {
   "cell_type": "raw",
   "id": "e424574e",
   "metadata": {},
   "source": [
    "1) Number of base classes:\n",
    "\n",
    "single inheritance have one base class\n",
    "multiple inheritance have more than one base class\n",
    "\n"
   ]
  },
  {
   "cell_type": "raw",
   "id": "9b32c7c2",
   "metadata": {},
   "source": [
    "Advantages:\n",
    "\n",
    "simple inheritance:\n",
    "\n",
    "simplicity: Easier to understand and implement due to strightforward hireachy.\n",
    "Reduced complextiy\n",
    "\n",
    "multiple inheritance:\n",
    "\n",
    "Code reusability: \n",
    "Allows for resing code form multiple soureces , promoting code for reusability"
   ]
  },
  {
   "cell_type": "markdown",
   "id": "9def9108",
   "metadata": {},
   "source": [
    "3. Explain the terms \"base class\" and \"derived class\" in the context of inheritance."
   ]
  },
  {
   "cell_type": "raw",
   "id": "6ec443eb",
   "metadata": {},
   "source": [
    "Base class:\n",
    "base class also know as parent class or superclass\n",
    "It is the class that provide common attributes and methods to be inherited by other classes.\n",
    "it serves as blueprint for creating more specialized classes\n",
    "\n",
    "Derived class:\n",
    "A derived class is also known as a subclass or child class\n",
    "it is class that inherits attributes and methods from another class the base class\n",
    "it can extend , modify or override the functionality of the base class\n"
   ]
  },
  {
   "cell_type": "markdown",
   "id": "63dd376a",
   "metadata": {},
   "source": [
    " 4.)What is the significance of the \"protected\" access modifier in inheritance? How does\n",
    "it differ from \"private\" and \"public\" modifiers?"
   ]
  },
  {
   "cell_type": "raw",
   "id": "7cd7c7de",
   "metadata": {},
   "source": [
    "The Protected accesses modifier has significance in the context of inheritance and it differs from private and public in terms of visibility within class hierachies\n",
    "\n",
    "Public access modifier:\n",
    "significance:\n",
    "Public members are accessible form outside the class including subclasses.\n",
    "they from the inheritance of the class , providing access to external code\n"
   ]
  },
  {
   "cell_type": "code",
   "execution_count": 9,
   "id": "4b3b5e13",
   "metadata": {},
   "outputs": [],
   "source": [
    "class Myclass:\n",
    "    def public_method(self):\n",
    "        print(\"public method\")\n",
    "        "
   ]
  },
  {
   "cell_type": "raw",
   "id": "fdd15d4c",
   "metadata": {},
   "source": [
    "Private access modifier:\n",
    "Private members are not accessible from outside the class\n",
    "They encapsulate implementation details enhancing encapsulation and infromation hiding "
   ]
  },
  {
   "cell_type": "code",
   "execution_count": 10,
   "id": "54749623",
   "metadata": {},
   "outputs": [],
   "source": [
    "class Myclass:\n",
    "    def __init__(self):\n",
    "        self.__private_attribute=42\n",
    "    \n",
    "    def __private_method(self):\n",
    "        print(\"private method\")"
   ]
  },
  {
   "cell_type": "code",
   "execution_count": 12,
   "id": "89f6b12d",
   "metadata": {},
   "outputs": [
    {
     "name": "stdout",
     "output_type": "stream",
     "text": [
      "42\n",
      "private method\n",
      "None\n"
     ]
    }
   ],
   "source": [
    "obj=Myclass()\n",
    "print(obj._Myclass__private_attribute)\n",
    "print(obj._Myclass__private_method())"
   ]
  },
  {
   "cell_type": "raw",
   "id": "c38afa72",
   "metadata": {},
   "source": [
    "Protected access modifier:\n",
    "Protectd members are accessible within the class and its subclasses (derived classes)\n",
    "they provide a compromise between public visiblity and encapsulation"
   ]
  },
  {
   "cell_type": "code",
   "execution_count": 17,
   "id": "ee89525e",
   "metadata": {},
   "outputs": [],
   "source": [
    "class Mybaseclass:\n",
    "    def __init__(self):\n",
    "        self._protected_at=43\n",
    "    def _protected_method(self):\n",
    "        print(\"protected method\")\n",
    "        \n",
    "class Myderivedclass(Mybaseclass):\n",
    "    def access_protected_member(self):\n",
    "        print(self.protected_at)\n",
    "        self.protected_method()\n",
    "    "
   ]
  },
  {
   "cell_type": "code",
   "execution_count": 19,
   "id": "f3e9245e",
   "metadata": {},
   "outputs": [
    {
     "name": "stdout",
     "output_type": "stream",
     "text": [
      "43\n",
      "protected method\n",
      "None\n"
     ]
    }
   ],
   "source": [
    "obj=Myderivedclass()\n",
    "print(obj._protected_at)\n",
    "print(obj._protected_method())"
   ]
  },
  {
   "cell_type": "raw",
   "id": "7f22f92e",
   "metadata": {},
   "source": [
    "Visibility:\n",
    "\n",
    "Public: Accessible from anywhere, including outside the class and subclasses.\n",
    "Protected: Accessible within the class and its subclasses.\n",
    "Private: Accessible only within the class.\n",
    "Inheritance:\n",
    "\n",
    "Public: Inherited by subclasses.\n",
    "Protected: Inherited by subclasses, allowing access to protected members.\n",
    "Private: Not inherited by subclasses.\n",
    "Encapsulation:\n",
    "\n",
    "Public: Exposes the implementation details.\n",
    "Protected: Limits visibility but allows access to derived classes.\n",
    "Private: Restricts access entirely, enhancing encapsulation.\n",
    "Use Cases:\n",
    "\n",
    "Public: Suitable for attributes/methods that form the interface or are meant to be accessed externally.\n",
    "Protected: Useful for sharing implementation details with subclasses.\n",
    "Private: Ideal for encapsulating sensitive information."
   ]
  },
  {
   "cell_type": "markdown",
   "id": "d47fca98",
   "metadata": {},
   "source": [
    "5. What is the purpose of the \"super\" keyword in inheritance? Provide an example."
   ]
  },
  {
   "cell_type": "raw",
   "id": "b7a918b8",
   "metadata": {},
   "source": [
    "The super kewyword in inheritance is used to call to method or access a property form the parent class (superclass or base class) it is particulary useful when a method in the derived class needs to invovke of the same name from it's parent class\n"
   ]
  },
  {
   "cell_type": "code",
   "execution_count": 16,
   "id": "be161583",
   "metadata": {},
   "outputs": [
    {
     "name": "stdout",
     "output_type": "stream",
     "text": [
      "Generic animal sound\n",
      "Generic animal sound\n",
      "Woof!\n"
     ]
    }
   ],
   "source": [
    "class Animal:\n",
    "    def __init__(self, species):\n",
    "        self.species = species\n",
    "\n",
    "    def speak(self):\n",
    "        print(\"Generic animal sound\")\n",
    "\n",
    "class Dog(Animal):\n",
    "    def __init__(self, species, breed):\n",
    "        super().__init__(species)\n",
    "        self.breed = breed\n",
    "\n",
    "    def speak(self):\n",
    "        super().speak()  # Calling the speak method from the parent class\n",
    "        print(\"Woof!\")\n",
    "\n",
    "# Example usage:\n",
    "animal = Animal(\"Mammal\")\n",
    "animal.speak()\n",
    "\n",
    "dog = Dog(\"Mammal\", \"Labrador\")\n",
    "dog.speak()\n"
   ]
  },
  {
   "cell_type": "code",
   "execution_count": null,
   "id": "8b97ef5b",
   "metadata": {},
   "outputs": [],
   "source": []
  },
  {
   "cell_type": "raw",
   "id": "5a4e8ba0",
   "metadata": {},
   "source": [
    "6. Create a base class called \"Vehicle\" with attributes like \"make\", \"model\", and \"year\".\n",
    "Then, create a derived class called \"Car\" that inherits from \"Vehicle\" and adds an\n",
    "attribute called \"fuel_type\". Implement appropriate methods in both classes."
   ]
  },
  {
   "cell_type": "code",
   "execution_count": 9,
   "id": "55fccc54",
   "metadata": {},
   "outputs": [
    {
     "name": "stdout",
     "output_type": "stream",
     "text": [
      "Make: Toyota, Model: Camry, Year: 2022\n",
      "Make: Honda, Model: Accord, Year: 2023\n",
      "Fuel Type: Gasoline\n"
     ]
    }
   ],
   "source": [
    "class Vehicle:\n",
    "    def __init__(self, make, model, year):\n",
    "        self.make = make\n",
    "        self.model = model\n",
    "        self.year = year\n",
    "\n",
    "    def display_info(self):\n",
    "        print(f\"Make: {self.make}, Model: {self.model}, Year: {self.year}\")\n",
    "\n",
    "\n",
    "class Car(Vehicle):\n",
    "    def __init__(self, make, model, year, fuel_type):\n",
    "        super().__init__(make, model, year)\n",
    "        self.fuel_type = fuel_type\n",
    "\n",
    "    def display_info(self):\n",
    "        super().display_info()\n",
    "        print(f\"Fuel Type: {self.fuel_type}\")\n",
    "\n",
    "\n",
    "# Example usage:\n",
    "vehicle1 = Vehicle(\"Toyota\", \"Camry\", 2022)\n",
    "vehicle1.display_info()\n",
    "\n",
    "car1 = Car(\"Honda\", \"Accord\", 2023, \"Gasoline\")\n",
    "car1.display_info()\n"
   ]
  },
  {
   "cell_type": "raw",
   "id": "9c12cf2b",
   "metadata": {},
   "source": [
    "7. Create a base class called \"Employee\" with attributes like \"name\" and \"salary.\"\n",
    "Derive two classes, \"Manager\" and \"Developer,\" from \"Employee.\" Add an additional\n",
    "attribute called \"department\" for the \"Manager\" class and \"programming_language\"\n",
    "for the \"Developer\" class."
   ]
  },
  {
   "cell_type": "code",
   "execution_count": 10,
   "id": "d40f3ba3",
   "metadata": {},
   "outputs": [
    {
     "name": "stdout",
     "output_type": "stream",
     "text": [
      "Name: John Doe, Salary: 60000\n",
      "Name: Alice Smith, Salary: 80000\n",
      "Department: HR\n",
      "Name: Bob Johnson, Salary: 70000\n",
      "Programming Language: Python\n"
     ]
    }
   ],
   "source": [
    "class Employee:\n",
    "    def __init__(self, name, salary):\n",
    "        self.name = name\n",
    "        self.salary = salary\n",
    "\n",
    "    def display_info(self):\n",
    "        print(f\"Name: {self.name}, Salary: {self.salary}\")\n",
    "\n",
    "\n",
    "class Manager(Employee):\n",
    "    def __init__(self, name, salary, department):\n",
    "        super().__init__(name, salary)\n",
    "        self.department = department\n",
    "\n",
    "    def display_info(self):\n",
    "        super().display_info()\n",
    "        print(f\"Department: {self.department}\")\n",
    "\n",
    "\n",
    "class Developer(Employee):\n",
    "    def __init__(self, name, salary, programming_language):\n",
    "        super().__init__(name, salary)\n",
    "        self.programming_language = programming_language\n",
    "\n",
    "    def display_info(self):\n",
    "        super().display_info()\n",
    "        print(f\"Programming Language: {self.programming_language}\")\n",
    "\n",
    "\n",
    "# Example usage:\n",
    "employee1 = Employee(\"John Doe\", 60000)\n",
    "employee1.display_info()\n",
    "\n",
    "manager1 = Manager(\"Alice Smith\", 80000, \"HR\")\n",
    "manager1.display_info()\n",
    "\n",
    "developer1 = Developer(\"Bob Johnson\", 70000, \"Python\")\n",
    "developer1.display_info()\n"
   ]
  },
  {
   "cell_type": "raw",
   "id": "053eb88f",
   "metadata": {},
   "source": [
    "8. Design a base class called \"Shape\" with attributes like \"colour\" and \"border_width.\"\n",
    "Create derived classes, \"Rectangle\" and \"Circle,\" that inherit from \"Shape\" and add\n",
    "specific attributes like \"length\" and \"width\" for the \"Rectangle\" class and \"radius\" for\n",
    "the \"Circle\" class."
   ]
  },
  {
   "cell_type": "code",
   "execution_count": 11,
   "id": "d3f09bdb",
   "metadata": {},
   "outputs": [
    {
     "name": "stdout",
     "output_type": "stream",
     "text": [
      "Color: Red, Border Width: 2\n",
      "Color: Blue, Border Width: 1\n",
      "Length: 5, Width: 8\n",
      "Color: Green, Border Width: 3\n",
      "Radius: 4\n"
     ]
    }
   ],
   "source": [
    "class Shape:\n",
    "    def __init__(self, color, border_width):\n",
    "        self.color = color\n",
    "        self.border_width = border_width\n",
    "\n",
    "    def display_info(self):\n",
    "        print(f\"Color: {self.color}, Border Width: {self.border_width}\")\n",
    "\n",
    "\n",
    "class Rectangle(Shape):\n",
    "    def __init__(self, color, border_width, length, width):\n",
    "        super().__init__(color, border_width)\n",
    "        self.length = length\n",
    "        self.width = width\n",
    "\n",
    "    def display_info(self):\n",
    "        super().display_info()\n",
    "        print(f\"Length: {self.length}, Width: {self.width}\")\n",
    "\n",
    "\n",
    "class Circle(Shape):\n",
    "    def __init__(self, color, border_width, radius):\n",
    "        super().__init__(color, border_width)\n",
    "        self.radius = radius\n",
    "\n",
    "    def display_info(self):\n",
    "        super().display_info()\n",
    "        print(f\"Radius: {self.radius}\")\n",
    "\n",
    "\n",
    "# Example usage:\n",
    "shape1 = Shape(\"Red\", 2)\n",
    "shape1.display_info()\n",
    "\n",
    "rectangle1 = Rectangle(\"Blue\", 1, 5, 8)\n",
    "rectangle1.display_info()\n",
    "\n",
    "circle1 = Circle(\"Green\", 3, 4)\n",
    "circle1.display_info()\n",
    "\n",
    "    "
   ]
  },
  {
   "cell_type": "raw",
   "id": "05742dd5",
   "metadata": {},
   "source": [
    "9. Create a base class called \"Device\" with attributes like \"brand\" and \"model.\" Derive\n",
    "two classes, \"Phone\" and \"Tablet,\" from \"Device.\" Add specific attributes like\n",
    "\"screen_size\" for the \"Phone\" class and \"battery_capacity\" for the \"Tablet\" class."
   ]
  },
  {
   "cell_type": "code",
   "execution_count": 12,
   "id": "7bf21264",
   "metadata": {},
   "outputs": [
    {
     "name": "stdout",
     "output_type": "stream",
     "text": [
      "Brand: Samsung, Model: Galaxy\n",
      "Brand: Apple, Model: iPhone X\n",
      "Screen Size: 6.1\n",
      "Brand: Microsoft, Model: Surface Pro\n",
      "Battery Capacity: 8000\n"
     ]
    }
   ],
   "source": [
    "class Device:\n",
    "    def __init__(self, brand, model):\n",
    "        self.brand = brand\n",
    "        self.model = model\n",
    "\n",
    "    def display_info(self):\n",
    "        print(f\"Brand: {self.brand}, Model: {self.model}\")\n",
    "\n",
    "\n",
    "class Phone(Device):\n",
    "    def __init__(self, brand, model, screen_size):\n",
    "        super().__init__(brand, model)\n",
    "        self.screen_size = screen_size\n",
    "\n",
    "    def display_info(self):\n",
    "        super().display_info()\n",
    "        print(f\"Screen Size: {self.screen_size}\")\n",
    "\n",
    "\n",
    "class Tablet(Device):\n",
    "    def __init__(self, brand, model, battery_capacity):\n",
    "        super().__init__(brand, model)\n",
    "        self.battery_capacity = battery_capacity\n",
    "\n",
    "    def display_info(self):\n",
    "        super().display_info()\n",
    "        print(f\"Battery Capacity: {self.battery_capacity}\")\n",
    "\n",
    "\n",
    "# Example usage:\n",
    "device1 = Device(\"Samsung\", \"Galaxy\")\n",
    "device1.display_info()\n",
    "\n",
    "phone1 = Phone(\"Apple\", \"iPhone X\", 6.1)\n",
    "phone1.display_info()\n",
    "\n",
    "tablet1 = Tablet(\"Microsoft\", \"Surface Pro\", 8000)\n",
    "tablet1.display_info()\n"
   ]
  },
  {
   "cell_type": "raw",
   "id": "c057eab4",
   "metadata": {},
   "source": [
    "10. Create a base class called \"BankAccount\" with attributes like \"account_number\" and\n",
    "\"balance.\" Derive two classes, \"SavingsAccount\" and \"CheckingAccount,\" from\n",
    "\"BankAccount.\" Add specific methods like \"calculate_interest\" for the\n",
    "\"SavingsAccount\" class and \"deduct_fees\" for the \"CheckingAccount\" class."
   ]
  },
  {
   "cell_type": "code",
   "execution_count": 13,
   "id": "b5f4b921",
   "metadata": {},
   "outputs": [
    {
     "name": "stdout",
     "output_type": "stream",
     "text": [
      "Account Number: 123456, Balance: 1000\n",
      "Account Number: 789012, Balance: 5000\n",
      "Interest calculated. New balance: 5100.0\n",
      "Account Number: 345678, Balance: 2000\n",
      "Fees deducted. New balance: 1990\n"
     ]
    }
   ],
   "source": [
    "class BankAccount:\n",
    "    def __init__(self, account_number, balance):\n",
    "        self.account_number = account_number\n",
    "        self.balance = balance\n",
    "\n",
    "    def display_info(self):\n",
    "        print(f\"Account Number: {self.account_number}, Balance: {self.balance}\")\n",
    "\n",
    "class SavingsAccount(BankAccount):\n",
    "    def __init__(self, account_number, balance, interest_rate):\n",
    "        super().__init__(account_number, balance)\n",
    "        self.interest_rate = interest_rate\n",
    "\n",
    "    def calculate_interest(self):\n",
    "        interest = self.balance * (self.interest_rate / 100)\n",
    "        self.balance += interest\n",
    "        print(f\"Interest calculated. New balance: {self.balance}\")\n",
    "\n",
    "class CheckingAccount(BankAccount):\n",
    "    def __init__(self, account_number, balance, fee):\n",
    "        super().__init__(account_number, balance)\n",
    "        self.fee = fee\n",
    "\n",
    "    def deduct_fees(self):\n",
    "        self.balance -= self.fee\n",
    "        print(f\"Fees deducted. New balance: {self.balance}\")\n",
    "\n",
    "# Example usage:\n",
    "account1 = BankAccount(\"123456\", 1000)\n",
    "account1.display_info()\n",
    "\n",
    "savings_account1 = SavingsAccount(\"789012\", 5000, 2)\n",
    "savings_account1.display_info()\n",
    "savings_account1.calculate_interest()\n",
    "\n",
    "checking_account1 = CheckingAccount(\"345678\", 2000, 10)\n",
    "checking_account1.display_info()\n",
    "checking_account1.deduct_fees()\n"
   ]
  },
  {
   "cell_type": "code",
   "execution_count": null,
   "id": "9e95f33f",
   "metadata": {},
   "outputs": [],
   "source": []
  }
 ],
 "metadata": {
  "kernelspec": {
   "display_name": "Python 3 (ipykernel)",
   "language": "python",
   "name": "python3"
  },
  "language_info": {
   "codemirror_mode": {
    "name": "ipython",
    "version": 3
   },
   "file_extension": ".py",
   "mimetype": "text/x-python",
   "name": "python",
   "nbconvert_exporter": "python",
   "pygments_lexer": "ipython3",
   "version": "3.10.9"
  }
 },
 "nbformat": 4,
 "nbformat_minor": 5
}
