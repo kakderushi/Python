{
 "cells": [
  {
   "cell_type": "raw",
   "id": "c050fe59",
   "metadata": {},
   "source": [
    "1.) What is the role of try and exception block?\n",
    "    \n",
    "    The role of try and exception block:\n",
    "    \n",
    "    1)try:In try block, It consists of block of code which are througing to error or exception.\n",
    "          so, In try block contains which type of exception are occured.\n",
    "          \n",
    "    2)Exception:In exception block, It raise which type of exception are occured, after that it their responsiblity to \n",
    "                to take care of particular type of exception.\n",
    "    \n",
    "    "
   ]
  },
  {
   "cell_type": "raw",
   "id": "11931550",
   "metadata": {},
   "source": [
    "2.) What is the syntax for a basic try-except block?\n",
    "\n",
    "    Syntax:\n",
    "    \n",
    "    try:\n",
    "        #block of code which have exception\n",
    "    Except TypeOfExcption:\n",
    "         #handle exception."
   ]
  },
  {
   "cell_type": "raw",
   "id": "5af05dfe",
   "metadata": {},
   "source": [
    "3.) What happens if an exception occurs inside a try block and there is no matching except block?\n",
    "    \n",
    "    In the exception occurs inside the 'try' block and it has unmatch except block to handle\n",
    "    that specific exception. the program will terminate abrupty and an unhandled exception\n",
    "    errro will be rasied this error typically includes a trackback calls and line numbers that \n",
    "    led to the unhandled exception."
   ]
  },
  {
   "cell_type": "raw",
   "id": "1b95fbc4",
   "metadata": {},
   "source": [
    "4.) What is the difference between using a bare except block and specifying a specific exception type?\n",
    "     \n",
    "   Bare except block:\n",
    "   try:\n",
    "   #code that might occured error\n",
    "   except:\n",
    "   #exception handled\n",
    "   \n",
    "   In Bare except block which means that any exception code which are in try block are regardless type \n",
    "   of exception. It means that there is  no need to specify particular type of exception which are handle \n",
    "   by bare except block.\n",
    "   \n",
    "   \n",
    "   Specifying a specific exception type:\n",
    "   try:\n",
    "   # code that may be occured error\n",
    "   except SpecificTypeError:\n",
    "   #exception handled\n",
    "   \n",
    "   In Specifying a specific exception type which means that any exception code which are in try block..\n",
    "   that code have specific type of exception . Here we have to specify which type of exception are going\n",
    "   to handled through by except block.\n",
    "   \n",
    "   \n",
    "    "
   ]
  },
  {
   "cell_type": "raw",
   "id": "eb043655",
   "metadata": {},
   "source": [
    "5. Can you have nested try-except blocks in Python? If yes, then give an example\n",
    "   \n",
    "   Yes, In python, Nested try-except block , It allows level's of exception handled by nested try-except block.\n",
    "   \n",
    "   \n",
    "   "
   ]
  },
  {
   "cell_type": "code",
   "execution_count": 3,
   "id": "da11692c",
   "metadata": {},
   "outputs": [
    {
     "name": "stdout",
     "output_type": "stream",
     "text": [
      "outer try block\n",
      "Inner try block\n",
      "outer except block\n"
     ]
    }
   ],
   "source": [
    "try:\n",
    "    print(\"outer try block\")\n",
    "    try:\n",
    "        print(\"Inner try block\")\n",
    "        res=10/0\n",
    "        print(res)\n",
    "    except ZeroDivisonError:\n",
    "        print(\"Inner except block divison by zero\")\n",
    "    \n",
    "        print(\"this inner \")\n",
    "except:\n",
    "    print(\"outer except block\")"
   ]
  },
  {
   "cell_type": "raw",
   "id": "93e46667",
   "metadata": {},
   "source": [
    "In the above example there is two try block and two except block which are outer and inner try block\n",
    "which are also handle by two except block."
   ]
  },
  {
   "cell_type": "raw",
   "id": "3659bced",
   "metadata": {},
   "source": [
    "6.) Can we use multiple exception blocks, if yes then give an example.\n",
    "\n",
    "    Yes, we can use multiple exception block in python. which they are mainly used for handling multiple \n",
    "    type of exception for specific type of try block."
   ]
  },
  {
   "cell_type": "code",
   "execution_count": 5,
   "id": "4ba81a33",
   "metadata": {},
   "outputs": [
    {
     "name": "stdout",
     "output_type": "stream",
     "text": [
      "Enter a number: 12\n",
      "Result: 0.8333333333333334\n"
     ]
    }
   ],
   "source": [
    "try:\n",
    "    # Some code that may raise exceptions\n",
    "    x = int(input(\"Enter a number: \"))\n",
    "    result = 10 / x\n",
    "    print(\"Result:\", result)\n",
    "except ValueError:\n",
    "    # Handle the ValueError exception\n",
    "    print(\"Invalid input. Please enter a valid number.\")\n",
    "except ZeroDivisionError:\n",
    "    # Handle the ZeroDivisionError exception\n",
    "    print(\"Cannot divide by zero.\")\n",
    "except Exception as e:\n",
    "    # Handle any other exception\n",
    "    print(\"An error occurred:\", str(e))\n"
   ]
  },
  {
   "cell_type": "raw",
   "id": "0aa5f1ab",
   "metadata": {},
   "source": [
    "7. Write the reason due to which following errors are raised:\n",
    "a. EOFError \n",
    "b. FloatingPointError \n",
    "c. IndexError \n",
    "d. MemoryError\n",
    "e. OverflowError \n",
    "f. TabError\n",
    "g. ValueError"
   ]
  },
  {
   "cell_type": "raw",
   "id": "1366d39c",
   "metadata": {},
   "source": [
    "EOFError: This error is raised when the input() function or a similar input operation reaches the end-of-file (EOF) without receiving any input. It typically occurs when reading user input from the console or when reading from a file.\n",
    "\n",
    "b. FloatingPointError: This error occurs when a floating-point arithmetic operation fails to produce a valid result. It can happen, for example, when dividing by zero or when performing an operation that results in an overflow or underflow of the floating-point representation.\n",
    "\n",
    "c. IndexError: This error is raised when trying to access a list, tuple, or string using an invalid index. It occurs when the index provided is out of the valid range of indices for the given sequence, such as accessing an element beyond the length of the sequence.\n",
    "\n",
    "d. MemoryError: This error occurs when the program runs out of available memory to allocate for new objects or data structures. It typically happens when the system's memory resources are exhausted, and the program is unable to allocate additional memory.\n",
    "\n",
    "OverflowError: This error is raised when a mathematical operation results in a value that is too large to be represented within the limits of the numeric type being used. For example, in Python, integers have arbitrary precision, but if an operation produces a value that exceeds the maximum representable integer, an OverflowError is raised.\n",
    "\n",
    "f. TabError: This error occurs when there is an issue with the indentation of the code. It typically happens when mixing tabs and spaces for indentation in an inconsistent manner. Python relies on consistent indentation using either tabs or spaces, and a TabError is raised if there is a mismatch or ambiguity in the indentation.\n",
    "\n",
    "g. ValueError: This error is raised when a function receives an argument of the correct type but an inappropriate value. It usually occurs when a function is called with an argument that is outside the valid range or does not meet certain conditions expected by the function. For example, passing a negative value to a function that expects a positive integer could raise a ValueError."
   ]
  },
  {
   "cell_type": "raw",
   "id": "37e82f22",
   "metadata": {},
   "source": [
    "8.)Write code for the following given scenario and add try-exception block to it.\n",
    "a. Program to divide two numbers\n",
    "b. Program to convert a string to an integer \n",
    "c. Program to access an element in a list\n",
    "d. Program to handle a specific exception\n",
    "e. Program to handle any exception"
   ]
  },
  {
   "cell_type": "raw",
   "id": "eddc7845",
   "metadata": {},
   "source": [
    "a. Program to divide two numbers"
   ]
  },
  {
   "cell_type": "code",
   "execution_count": 10,
   "id": "7da0e642",
   "metadata": {},
   "outputs": [
    {
     "name": "stdout",
     "output_type": "stream",
     "text": [
      "Enter the numerator12\n",
      "Enter the denomintor0\n",
      "does not divide by zero\n"
     ]
    }
   ],
   "source": [
    "try:\n",
    "    numerator=int(input(\"Enter the numerator\"))\n",
    "    denomintor=int(input(\"Enter the denomintor\"))\n",
    "    res=numerator/denomintor\n",
    "    print(\"results\",res)\n",
    "except ZeroDivisionError:\n",
    "        print(\"does not divide by zero\")"
   ]
  },
  {
   "cell_type": "raw",
   "id": "49e55670",
   "metadata": {},
   "source": [
    "b. Program to convert a string to an integer "
   ]
  },
  {
   "cell_type": "code",
   "execution_count": 11,
   "id": "3a5ce9f7",
   "metadata": {},
   "outputs": [
    {
     "name": "stdout",
     "output_type": "stream",
     "text": [
      "does not match the values\n"
     ]
    }
   ],
   "source": [
    "try:\n",
    "    string=\"rushikesh\"\n",
    "    print(int(string))\n",
    "except ValueError:\n",
    "    print(\"does not match the values\")"
   ]
  },
  {
   "cell_type": "raw",
   "id": "7360f02b",
   "metadata": {},
   "source": [
    "c. Program to access an element in a list"
   ]
  },
  {
   "cell_type": "code",
   "execution_count": 12,
   "id": "f28ddd4b",
   "metadata": {},
   "outputs": [
    {
     "name": "stdout",
     "output_type": "stream",
     "text": [
      "6\n"
     ]
    }
   ],
   "source": [
    "try:\n",
    "    list1=[12,3,4,5,6,7]\n",
    "    print(list1[4])\n",
    "except IndexError:\n",
    "    print(\"Invalid errror\")\n"
   ]
  },
  {
   "cell_type": "raw",
   "id": "1e7833b1",
   "metadata": {},
   "source": [
    "d. Program to handle a specific exception"
   ]
  },
  {
   "cell_type": "code",
   "execution_count": 13,
   "id": "5d77f7f4",
   "metadata": {},
   "outputs": [
    {
     "name": "stdout",
     "output_type": "stream",
     "text": [
      "does  not divide by zero\n"
     ]
    }
   ],
   "source": [
    "try:\n",
    "    res=10/0\n",
    "    print(res)\n",
    "except ZeroDivisionError:\n",
    "    print(\"does  not divide by zero\")\n",
    "    "
   ]
  },
  {
   "cell_type": "raw",
   "id": "d374635e",
   "metadata": {},
   "source": [
    "e. Program to handle any exception"
   ]
  },
  {
   "cell_type": "code",
   "execution_count": 14,
   "id": "8b8840d9",
   "metadata": {},
   "outputs": [
    {
     "name": "stdout",
     "output_type": "stream",
     "text": [
      "Enter a number: 12\n",
      "Result: 0.8333333333333334\n"
     ]
    }
   ],
   "source": [
    "try:\n",
    "    x = int(input(\"Enter a number: \"))\n",
    "    result = 10 / x\n",
    "    print(\"Result:\", result)\n",
    "except Exception as e:\n",
    "    print(\"An error occurred:\", str(e))\n"
   ]
  },
  {
   "cell_type": "code",
   "execution_count": null,
   "id": "5f8ecaff",
   "metadata": {},
   "outputs": [],
   "source": []
  }
 ],
 "metadata": {
  "kernelspec": {
   "display_name": "Python 3 (ipykernel)",
   "language": "python",
   "name": "python3"
  },
  "language_info": {
   "codemirror_mode": {
    "name": "ipython",
    "version": 3
   },
   "file_extension": ".py",
   "mimetype": "text/x-python",
   "name": "python",
   "nbconvert_exporter": "python",
   "pygments_lexer": "ipython3",
   "version": "3.10.9"
  }
 },
 "nbformat": 4,
 "nbformat_minor": 5
}
