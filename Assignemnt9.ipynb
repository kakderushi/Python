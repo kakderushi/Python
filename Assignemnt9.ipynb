{
 "cells": [
  {
   "cell_type": "raw",
   "id": "33d9210f",
   "metadata": {},
   "source": [
    "1.) What is a lambda function in Python, and how does it differ from a regular function?\n",
    "   \n",
    "   In Python, Lambda function is anonymous function meaning it is function without name.\n",
    "   It is created using lambda keyword. followed by set of parameters, colon and expression\n",
    "   the result of the expression is the return value of the lambda function.\n",
    "   \n",
    "   #Lambda parameters:expression.\n",
    "   \n",
    "   Diffrence between lambda function and regular function in Python:\n",
    "   \n",
    "   1)Syntax:Lambda function have simple syntax as compared to regular function. In regular function it have\n",
    "      complex syntax as compared to lambda function.\n",
    "      \n",
    "   2)Nameless:Lambda function is anonymous function which means without name.but regular function must have \n",
    "              function name followed parameters.which make's lambda function different.\n",
    "      \n",
    "   3)Function Body:In lambda function have single expression so there is no need to be block of code\n",
    "               but in regular function it have their own set of code.\n",
    "       \n",
    "   4)Return Value: The result of the expression in a lambda function is automatically returned as the output of the function.\n",
    "                   In regular functions, you need to explicitly use the return statement to specify the return value."
   ]
  },
  {
   "cell_type": "raw",
   "id": "9b4ea51d",
   "metadata": {},
   "source": [
    "2.) Can a lambda function in Python have multiple arguments? If yes, how can you define and use them? \n",
    "    \n",
    "    Yes, In python lambda function have multiple arguments. we can define and use multiple arguments,\n",
    "    by separated commons in the parameter list's\n",
    "    \n",
    "    Example:\n",
    "    "
   ]
  },
  {
   "cell_type": "code",
   "execution_count": 8,
   "id": "e5d69d3d",
   "metadata": {},
   "outputs": [
    {
     "name": "stdout",
     "output_type": "stream",
     "text": [
      "9\n"
     ]
    }
   ],
   "source": [
    "add=lambda x,y: x+y\n",
    "res=(add(4,5))\n",
    "print(res)\n"
   ]
  },
  {
   "cell_type": "raw",
   "id": "6ee11902",
   "metadata": {},
   "source": [
    "In above example we can clearly see it, x and y are two arguments , which x consists of 4 and y consits of 5."
   ]
  },
  {
   "cell_type": "raw",
   "id": "2ae826d9",
   "metadata": {},
   "source": [
    "3. How are lambda functions typically used in Python? Provide an example use case\n",
    "    \n",
    "    lambda function in python used in that situation where small, tempoary function is required.\n",
    "    also in case of higher order function like map(), filter() In this higher order\n",
    "    function accepts two or more arguments,lambda function provide a convient a way without explicitely name.\n",
    "    "
   ]
  },
  {
   "cell_type": "code",
   "execution_count": 11,
   "id": "97143542",
   "metadata": {},
   "outputs": [
    {
     "name": "stdout",
     "output_type": "stream",
     "text": [
      "[1, 4, 9, 16, 25]\n"
     ]
    }
   ],
   "source": [
    "num=[1,2,3,4,5]\n",
    "res_value=map(lambda x:x**2,num)\n",
    "print(list(res_value))"
   ]
  },
  {
   "cell_type": "raw",
   "id": "01c971d8",
   "metadata": {},
   "source": [
    "In example lambda function 'lambda x:x**2' is used with map() function to sqaure each element in the num.\n",
    "The map() applies the lambda function to each element of the iterable('num') and return iterable of the result.\n",
    "by converting the iterator of the result using list() we can obtain the result."
   ]
  },
  {
   "cell_type": "code",
   "execution_count": 13,
   "id": "0038c31c",
   "metadata": {},
   "outputs": [
    {
     "name": "stdout",
     "output_type": "stream",
     "text": [
      "[2, 4, 6, 8]\n"
     ]
    }
   ],
   "source": [
    "num=[1,2,3,4,5,6,7,8]\n",
    "res_value=filter(lambda x:x%2==0,num)\n",
    "print(list(res_value))"
   ]
  },
  {
   "cell_type": "raw",
   "id": "2f3de9e2",
   "metadata": {},
   "source": [
    "Lambda function are also commonly used with filter() function. to selectivly filter each element from an iterable\n",
    "based on condition."
   ]
  },
  {
   "cell_type": "raw",
   "id": "c1a3d24b",
   "metadata": {},
   "source": [
    "4. What are the advantages and limitations of lambda functions compared to regular functions in Python?\n",
    "   \n",
    "   Advantage of lambda function:\n",
    "   1)Concise syntax:lambda function allow to define simple function in compact manner. They are well-suited\n",
    "     in single line of expression. and eliminating the need of full function body.\n",
    "     \n",
    "   2)Readability:lambda function can make a code more readable.here we place the code logic in their\n",
    "   place. this used in this situation where code logic is simple.\n",
    "   \n",
    "   3)Inline Usage: Lambda functions can be defined and used inline, without the need for a separate function name.\n",
    "     This can be convenient when working with higher-order functions or when a small, temporary function is needed.\n",
    "     \n",
    "   Limitations of lambda function:\n",
    "   \n",
    "   1)single expression:lambda function are limited to the single expression. which means they cannot used multiple \n",
    "   statement inside the funtion. when we need more complex code and logic then lambda function fails.\n",
    "   \n",
    "   2)Lack of name:lambda function is anonymous function, which menas it does not have any name. when it comes into \n",
    "   error part it is difficult to identify the error beacuse here we don't known name of the function.\n",
    "   \n",
    "   3)Limited functionality:lambda function have a single line of expression ,so it is useful for simple and compact\n",
    "   function but, when we are taking to complex  code of function it fails due to limited functonality.\n",
    "    "
   ]
  },
  {
   "cell_type": "raw",
   "id": "55488e20",
   "metadata": {},
   "source": [
    "5.) Are lambda functions in Python able to access variables defined outside of their own scope? Explain with an example.\n",
    "\n",
    "    Yes, lambda functions in Python can access variables defined outside of their own scope. \n",
    "    This concept is known as \"lexical scoping\" or \"closure.\" Lambda functions have access to variables in \n",
    "    the surrounding scope in which they are defined, including global variables and variables from enclosing functions."
   ]
  },
  {
   "cell_type": "code",
   "execution_count": 14,
   "id": "aa1e723a",
   "metadata": {},
   "outputs": [
    {
     "name": "stdout",
     "output_type": "stream",
     "text": [
      "50\n"
     ]
    }
   ],
   "source": [
    "def multiplier(n):\n",
    "    return lambda x: x * n\n",
    "\n",
    "multiply_by_5 = multiplier(5)\n",
    "result = multiply_by_5(10)\n",
    "print(result)  # Output: 50\n"
   ]
  },
  {
   "cell_type": "raw",
   "id": "a5ac3a3c",
   "metadata": {},
   "source": [
    "In the example above, the multiplier function takes an argument n and returns a lambda function. The lambda function multiplies its argument x by n. When multiplier(5) is called, it returns a lambda function that multiplies its input by 5.\n",
    "The lambda function multiply_by_5 captures and remembers the value of n (which is 5) from the surrounding scope of the multiplier function. When multiply_by_5(10) is called, it multiplies 10 by the captured value of n (which is 5), resulting in 50\n",
    "Here, the lambda function multiply_by_5 accesses the variable n defined in the enclosing scope of the multiplier function, even after the multiplier function has finished executing. This is possible because lambda functions retain references to variables in their enclosing scope, creating a closure."
   ]
  },
  {
   "cell_type": "raw",
   "id": "70171800",
   "metadata": {},
   "source": [
    "6.) Write a lambda function to calculate the square of a given number.\n",
    "    "
   ]
  },
  {
   "cell_type": "code",
   "execution_count": 16,
   "id": "a5dd5c74",
   "metadata": {},
   "outputs": [
    {
     "name": "stdout",
     "output_type": "stream",
     "text": [
      "16\n"
     ]
    }
   ],
   "source": [
    "sqaure=lambda x:x**2\n",
    "res=sqaure(4)\n",
    "print(res)"
   ]
  },
  {
   "cell_type": "raw",
   "id": "a192ec40",
   "metadata": {},
   "source": [
    "7. Create a lambda function to find the maximum value in a list of integers.\n",
    "    \n",
    "   "
   ]
  },
  {
   "cell_type": "code",
   "execution_count": 20,
   "id": "fcbd8e77",
   "metadata": {},
   "outputs": [
    {
     "name": "stdout",
     "output_type": "stream",
     "text": [
      "78\n"
     ]
    }
   ],
   "source": [
    "import math\n",
    "list1=[1,2,3,4,5,78,12]\n",
    "\n",
    "max_value=lambda x:max(x)\n",
    "res=max_value(list1)\n",
    "print(res)"
   ]
  },
  {
   "cell_type": "raw",
   "id": "015b067e",
   "metadata": {},
   "source": [
    "8.) Implement a lambda function to filter out all the even numbers from a list of integers"
   ]
  },
  {
   "cell_type": "code",
   "execution_count": 21,
   "id": "2c843157",
   "metadata": {},
   "outputs": [
    {
     "name": "stdout",
     "output_type": "stream",
     "text": [
      "[2, 4, 6, 8]\n"
     ]
    }
   ],
   "source": [
    "num=[1,2,3,4,5,6,7,8]\n",
    "res_value=filter(lambda x:x%2==0,num)\n",
    "print(list(res_value))"
   ]
  },
  {
   "cell_type": "raw",
   "id": "876f583d",
   "metadata": {},
   "source": [
    "9.) Write a lambda function to sort a list of strings in ascending order based on the length of each string.\n",
    "    "
   ]
  },
  {
   "cell_type": "code",
   "execution_count": 22,
   "id": "fccea26d",
   "metadata": {},
   "outputs": [
    {
     "name": "stdout",
     "output_type": "stream",
     "text": [
      "['date', 'apple', 'banana', 'cherry', 'elderberry']\n"
     ]
    }
   ],
   "source": [
    "strings = [\"apple\", \"banana\", \"cherry\", \"date\", \"elderberry\"]\n",
    "\n",
    "sorted_strings = sorted(strings, key=lambda x: len(x))\n",
    "\n",
    "print(sorted_strings)\n",
    "\n"
   ]
  },
  {
   "cell_type": "raw",
   "id": "5c1a403d",
   "metadata": {},
   "source": [
    "10. Create a lambda function that takes two lists as input and returns a new list containing the common elements between the two lists"
   ]
  },
  {
   "cell_type": "code",
   "execution_count": 23,
   "id": "297bf959",
   "metadata": {},
   "outputs": [
    {
     "name": "stdout",
     "output_type": "stream",
     "text": [
      "[4, 5]\n"
     ]
    }
   ],
   "source": [
    "list1 = [1, 2, 3, 4, 5]\n",
    "list2 = [4, 5, 6, 7, 8]\n",
    "\n",
    "common_elements = lambda x, y: list(filter(lambda element: element in y, x))\n",
    "\n",
    "result = common_elements(list1, list2)\n",
    "print(result)  "
   ]
  },
  {
   "cell_type": "raw",
   "id": "ab2d3be4",
   "metadata": {},
   "source": [
    "11. Write a recursive function to calculate the factorial of a given positive integer."
   ]
  },
  {
   "cell_type": "code",
   "execution_count": 24,
   "id": "2f6c1198",
   "metadata": {},
   "outputs": [
    {
     "name": "stdout",
     "output_type": "stream",
     "text": [
      "The factorial of 5 is: 120\n"
     ]
    }
   ],
   "source": [
    "def factorial(n):\n",
    "    if n == 0:\n",
    "        return 1\n",
    "    else:\n",
    "        return n * factorial(n - 1)\n",
    "\n",
    "# Test the function\n",
    "number = 5\n",
    "result = factorial(number)\n",
    "print(f\"The factorial of {number} is: {result}\")\n"
   ]
  },
  {
   "cell_type": "raw",
   "id": "be0241f1",
   "metadata": {},
   "source": [
    "12. Implement a recursive function to compute the nth Fibonacci number."
   ]
  },
  {
   "cell_type": "code",
   "execution_count": 25,
   "id": "ef1db947",
   "metadata": {},
   "outputs": [
    {
     "name": "stdout",
     "output_type": "stream",
     "text": [
      "The 7th Fibonacci number is: 8\n"
     ]
    }
   ],
   "source": [
    "def fibonacci(n):\n",
    "    if n <= 0:\n",
    "        return None\n",
    "    elif n == 1 or n == 2:\n",
    "        return n - 1\n",
    "    else:\n",
    "        return fibonacci(n - 1) + fibonacci(n - 2)\n",
    "\n",
    "# Test the function\n",
    "number = 7\n",
    "result = fibonacci(number)\n",
    "print(f\"The {number}th Fibonacci number is: {result}\")\n"
   ]
  },
  {
   "cell_type": "raw",
   "id": "34d6e6c9",
   "metadata": {},
   "source": [
    "13.) Create a recursive function to find the sum of all the elements in a given list."
   ]
  },
  {
   "cell_type": "code",
   "execution_count": 26,
   "id": "5192b1df",
   "metadata": {},
   "outputs": [
    {
     "name": "stdout",
     "output_type": "stream",
     "text": [
      "The sum of the list [1, 2, 3, 4, 5] is: 15\n"
     ]
    }
   ],
   "source": [
    "def recursive_sum(lst):\n",
    "    if not lst:\n",
    "        return 0\n",
    "    else:\n",
    "        return lst[0] + recursive_sum(lst[1:])\n",
    "\n",
    "# Test the function\n",
    "numbers = [1, 2, 3, 4, 5]\n",
    "result = recursive_sum(numbers)\n",
    "print(f\"The sum of the list {numbers} is: {result}\")\n",
    "\n"
   ]
  },
  {
   "cell_type": "raw",
   "id": "d0a2a5e1",
   "metadata": {},
   "source": [
    "14.)Write a recursive function to determine whether a given string is a palindrome"
   ]
  },
  {
   "cell_type": "code",
   "execution_count": 27,
   "id": "fcabf1af",
   "metadata": {},
   "outputs": [
    {
     "name": "stdout",
     "output_type": "stream",
     "text": [
      "The string 'radar' is a palindrome: True\n"
     ]
    }
   ],
   "source": [
    "def is_palindrome(string):\n",
    "    if len(string) <= 1:\n",
    "        return True\n",
    "    elif string[0] != string[-1]:\n",
    "        return False\n",
    "    else:\n",
    "        return is_palindrome(string[1:-1])\n",
    "\n",
    "# Test the function\n",
    "word = \"radar\"\n",
    "result = is_palindrome(word)\n",
    "print(f\"The string '{word}' is a palindrome: {result}\")\n",
    "\n"
   ]
  },
  {
   "cell_type": "raw",
   "id": "0248df38",
   "metadata": {},
   "source": [
    "15.) Implement a recursive function to find the greatest common divisor (GCD) of two positive integers."
   ]
  },
  {
   "cell_type": "code",
   "execution_count": 28,
   "id": "73f54df8",
   "metadata": {},
   "outputs": [
    {
     "name": "stdout",
     "output_type": "stream",
     "text": [
      "The GCD of 24 and 36 is: 12\n"
     ]
    }
   ],
   "source": [
    "def gcd(a, b):\n",
    "    if b == 0:\n",
    "        return a\n",
    "    else:\n",
    "        return gcd(b, a % b)\n",
    "\n",
    "# Test the function\n",
    "num1 = 24\n",
    "num2 = 36\n",
    "result = gcd(num1, num2)\n",
    "print(f\"The GCD of {num1} and {num2} is: {result}\")\n",
    "\n"
   ]
  },
  {
   "cell_type": "code",
   "execution_count": null,
   "id": "e633af34",
   "metadata": {},
   "outputs": [],
   "source": []
  }
 ],
 "metadata": {
  "kernelspec": {
   "display_name": "Python 3 (ipykernel)",
   "language": "python",
   "name": "python3"
  },
  "language_info": {
   "codemirror_mode": {
    "name": "ipython",
    "version": 3
   },
   "file_extension": ".py",
   "mimetype": "text/x-python",
   "name": "python",
   "nbconvert_exporter": "python",
   "pygments_lexer": "ipython3",
   "version": "3.10.9"
  }
 },
 "nbformat": 4,
 "nbformat_minor": 5
}
